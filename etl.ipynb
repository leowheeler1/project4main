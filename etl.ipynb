{
 "cells": [
  {
   "cell_type": "code",
   "execution_count": 149,
   "id": "819a85f0",
   "metadata": {},
   "outputs": [],
   "source": [
    "# Data Processing\n",
    "import pandas as pd\n",
    "import numpy as np\n",
    "\n",
    "# Modeling\n",
    "from sklearn.ensemble import RandomForestClassifier\n",
    "from sklearn.metrics import accuracy_score, confusion_matrix, precision_score, recall_score, ConfusionMatrixDisplay\n",
    "from sklearn.model_selection import RandomizedSearchCV, train_test_split\n",
    "from scipy.stats import randint\n",
    "from sklearn.feature_extraction.text import TfidfVectorizer\n",
    "from sklearn.linear_model import LinearRegression"
   ]
  },
  {
   "cell_type": "code",
   "execution_count": 150,
   "id": "9701d51e",
   "metadata": {},
   "outputs": [],
   "source": [
    "def binner(scores):\n",
    "    output = []\n",
    "    for score in scores:\n",
    "        if score > 900:\n",
    "            output.append(1)\n",
    "        elif score > 650:\n",
    "            output.append(2)\n",
    "        elif score > 400:\n",
    "            output.append(3)\n",
    "        elif score > 200:\n",
    "            output.append(4)\n",
    "        else:\n",
    "            output.append(5)\n",
    "    return output"
   ]
  },
  {
   "cell_type": "code",
   "execution_count": 151,
   "id": "1d6ee350",
   "metadata": {},
   "outputs": [
    {
     "data": {
      "application/vnd.microsoft.datawrangler.viewer.v0+json": {
       "columns": [
        {
         "name": "index",
         "rawType": "int64",
         "type": "integer"
        },
        {
         "name": "text",
         "rawType": "object",
         "type": "string"
        },
        {
         "name": "label",
         "rawType": "int64",
         "type": "integer"
        }
       ],
       "ref": "4841debe-191b-4a73-b8bf-dff568b73676",
       "rows": [
        [
         "0",
         "I have been having migraines and headaches. I can't sleep. My whole body is shaking and shivering. I feel dizzy sometimes.",
         "308"
        ],
        [
         "1",
         "I have asthma and I get wheezing and breathing problems. I also have fevers, headaches, and I feel tired all the time.",
         "35"
        ],
        [
         "2",
         "Signs and symptoms of primary ovarian insufficiency are similar to those of menopause or estrogen deficiency. They include:  Irregular or skipped periods, which might be present for years or develop after a pregnancy or after stopping birth control pills Difficulty getting pregnant Hot flashes Night sweats Vaginal dryness Dry eyes Irritability or difficulty concentrating Decreased sexual desire  When to see a health care provider If you've missed your period for three months or more, see your health care provider to determine the cause. You can miss your period for a number of reasons — including pregnancy, stress, or a change in diet or exercise habits — but it's best to get evaluated whenever your menstrual cycle changes. Even if you don't mind not having periods, it's advisable to see your provider to find out what's causing the change. Low estrogen levels can lead to bone loss and an increased risk of heart disease.",
         "798"
        ],
        [
         "3",
         "cough,high_fever,breathlessness,family_history,mucoid_sputum",
         "149"
        ],
        [
         "4",
         "chills,vomiting,high_fever,sweating,headache,nausea,diarrhoea,muscle_pain",
         "596"
        ],
        [
         "5",
         "Posterior cortical atrophy symptoms vary among people. Symptoms also can vary over time. They tend to gradually get worse. Common symptoms include having trouble with:  Reading, spelling or math. Driving. Getting dressed. Telling the difference between objects that are moving and those that are still. Judging how far away objects are. Using everyday objects or tools. Identifying left from right.  Other common symptoms include:  Anxiety. Confusion. Changes in behavior and personality.  Memory problems may occur later in the disease. Causes The most common cause of posterior cortical atrophy is a form of Alzheimer's disease that's not typical. It affects the back of the brain. Other less common causes include corticobasal degeneration, Lewy body dementia and Creutzfeldt-Jakob disease. Researchers are looking at potential gene variations that may be related to the condition. Risk factors Further study is needed to determine whether the risk factors for Alzheimer's disease may play a role in posterior cortical atrophy.                  By Mayo Clinic Staff By Mayo Clinic Staff  Posterior cortical atrophy care at Mayo Clinic ",
         "785"
        ],
        [
         "6",
         "I've been having back pain, a cough, and numbness in my arms and legs. My neck hurts too, and I've been feeling dizzy and off balance.",
         "186"
        ],
        [
         "7",
         "yellowish_skin,nausea,loss_of_appetite,yellowing_of_eyes,family_history",
         "466"
        ],
        [
         "8",
         "joint_pain,neck_pain,knee_pain,hip_joint_pain,swelling_joints,painful_walking",
         "700"
        ],
        [
         "9",
         "An unusual sensation (aura) may precede a temporal lobe seizure, acting as a warning. Not everyone who has temporal lobe seizures has auras, and not everyone who has auras remembers them. The aura is actually the first part of a focal seizure before consciousness is impaired. Examples of auras include:  A sudden sense of unprovoked fear or joy A deja vu experience — a feeling that what's happening has happened before A sudden or strange odor or taste A rising sensation in the abdomen, similar to being on a roller coaster  Sometimes temporal lobe seizures impair your ability to respond to others. This type of temporal lobe seizure usually lasts 30 seconds to two minutes. Characteristic signs and symptoms include:  Loss of awareness of surroundings Staring Lip smacking Repeated swallowing or chewing Unusual finger movements, such as picking motions  After a temporal lobe seizure, you may have:  A period of confusion and difficulty speaking Inability to recall what occurred during the seizure Unawareness of having had a seizure Extreme sleepiness  In extreme cases, what starts as a temporal lobe seizure evolves into a generalized tonic-clonic (grand mal) seizure — featuring convulsions and loss of consciousness.",
         "971"
        ],
        [
         "10",
         "vomiting,yellowish_skin,abdominal_pain,swelling_of_stomach,distention_of_abdomen,history_of_alcohol_consumption,fluid_overload",
         "33"
        ],
        [
         "11",
         "vomiting,fatigue,anxiety,sweating,headache,nausea,excessive_hunger,drying_and_tingling_lips,slurred_speech,irritability,palpitations",
         "504"
        ],
        [
         "12",
         "fatigue,mood_swings,weight_loss,restlessness,sweating,diarrhoea,excessive_hunger,muscle_weakness,irritability,abnormal_menstruation",
         "502"
        ],
        [
         "13",
         "joint_pain,vomiting,yellowish_skin,dark_urine,nausea,loss_of_appetite,abdominal_pain,diarrhoea,mild_fever,yellowing_of_eyes,muscle_pain",
         "464"
        ],
        [
         "14",
         "skin_rash,chills,joint_pain,vomiting,fatigue,high_fever,headache,nausea,loss_of_appetite,pain_behind_the_eyes,back_pain,malaise,muscle_pain,red_spots_over_body",
         "275"
        ],
        [
         "15",
         "itching,vomiting,yellowish_skin,nausea,loss_of_appetite,abdominal_pain,yellowing_of_eyes",
         "207"
        ],
        [
         "16",
         "You might develop signs and symptoms of an intracranial hematoma right after a head injury, or they may take weeks or longer to appear. You might seem fine after a head injury. This period is called the lucid interval. Over time, pressure on your brain increases, producing some or all of the following signs and symptoms:  Headache that gets worse Vomiting Drowsiness and progressive loss of consciousness Dizziness Confusion Unequal pupil size Slurred speech Loss of movement (paralysis) on the opposite side of the body from the head injury  As more blood fills your brain or the narrow space between your brain and skull, other signs and symptoms may appear, such as:  Lethargy Seizures Unconsciousness ",
         "533"
        ],
        [
         "17",
         "muscle_weakness,stiff_neck,swelling_joints,movement_stiffness,painful_walking",
         "72"
        ],
        [
         "18",
         "vomiting,indigestion,loss_of_appetite,abdominal_pain,passage_of_gases,internal_itching",
         "735"
        ],
        [
         "19",
         "chills,vomiting,fatigue,weight_loss,cough,high_fever,breathlessness,sweating,loss_of_appetite,mild_fever,yellowing_of_eyes,swelled_lymph_nodes,malaise,phlegm,chest_pain,blood_in_sputum",
         "1019"
        ],
        [
         "20",
         "fatigue,cough,high_fever,breathlessness,family_history,mucoid_sputum",
         "149"
        ],
        [
         "21",
         "itching,skin_rash,stomach_pain,burning_micturition,spotting__urination",
         "308"
        ],
        [
         "22",
         "vomiting,breathlessness,sweating,chest_pain",
         "447"
        ],
        [
         "23",
         "I've been feeling really run down lately. I've been having a lot of trouble breathing and my nose is constantly running. I also have a lot of throat mucus and my lymph nodes are inflamed.",
         "234"
        ],
        [
         "24",
         "skin_rash,high_fever,blister,red_sore_around_nose,yellow_crust_ooze",
         "515"
        ],
        [
         "25",
         "I have been having a lot of pain in my joints and muscles. My neck is stiff and I have a hard time moving around. I also have a lot of pain when I try to steer my car.",
         "72"
        ],
        [
         "26",
         "vomiting,indigestion,loss_of_appetite,abdominal_pain,passage_of_gases,internal_itching",
         "735"
        ],
        [
         "27",
         "acidity,indigestion,headache,blurred_and_distorted_vision,excessive_hunger,stiff_neck,irritability,visual_disturbances",
         "630"
        ],
        [
         "28",
         "Signs and symptoms of myofascial pain syndrome may include:  Deep, aching pain in a muscle Pain that persists or worsens A tender knot in a muscle Difficulty sleeping due to pain ",
         "665"
        ],
        [
         "29",
         "muscle_weakness,stiff_neck,swelling_joints,movement_stiffness,painful_walking",
         "72"
        ],
        [
         "30",
         "skin_rash,pus_filled_pimples,blackheads,scurring",
         "7"
        ],
        [
         "31",
         "skin_rash,stomach_pain,burning_micturition,spotting__urination",
         "308"
        ],
        [
         "32",
         "itching,skin_rash,fatigue,lethargy,high_fever,headache,loss_of_appetite,mild_fever,swelled_lymph_nodes,malaise,red_spots_over_body",
         "193"
        ],
        [
         "33",
         "fatigue,yellowish_skin,loss_of_appetite,yellowing_of_eyes,family_history",
         "466"
        ],
        [
         "34",
         "           Cystic acne       Open pop-up dialog box          Close    Cystic acne   Cystic acne Cystic acne — the most severe form of acne — occurs when oil and dead skin cells build up deep within hair follicles. The resulting rupture within your skin may form boil-like inflammation.               Cystic acne       Open pop-up dialog box           Cystic acne       Open pop-up dialog box  Open pop-up dialog box       Close    Cystic acne   Cystic acne Cystic acne — the most severe form of acne — occurs when oil and dead skin cells build up deep within hair follicles. The resulting rupture within your skin may form boil-like inflammation.          Close    Cystic acne   Cystic acne Cystic acne — the most severe form of acne — occurs when oil and dead skin cells build up deep within hair follicles. The resulting rupture within your skin may form boil-like inflammation.        Close    Cystic acne   Cystic acne Cystic acne — the most severe form of acne — occurs when oil and dead skin cells build up deep within hair follicles. The resulting rupture within your skin may form boil-like inflammation.     Close    Close  Close Cystic acne   Cystic acne Cystic acne — the most severe form of acne — occurs when oil and dead skin cells build up deep within hair follicles. The resulting rupture within your skin may form boil-like inflammation.  Cystic acne Cystic acne — the most severe form of acne — occurs when oil and dead skin cells build up deep within hair follicles. The resulting rupture within your skin may form boil-like inflammation. Cystic acne — the most severe form of acne — occurs when oil and dead skin cells build up deep within hair follicles. The resulting rupture within your skin may form boil-like inflammation. Acne signs vary depending on the severity of your condition:  Whiteheads (closed plugged pores) Blackheads (open plugged pores) Small red, tender bumps (papules) Pimples (pustules), which are papules with pus at their tips  Large, solid, painful lumps under the skin (nodules) Painful, pus-filled lumps under the skin (cystic lesions)  Acne usually appears on the face, forehead, chest, upper back and shoulders.",
         "7"
        ],
        [
         "35",
         "fatigue,yellowish_skin,nausea,yellowing_of_eyes,family_history",
         "466"
        ],
        [
         "36",
         "vomiting,anxiety,sweating,headache,nausea,blurred_and_distorted_vision,excessive_hunger,drying_and_tingling_lips,slurred_speech,irritability,palpitations",
         "504"
        ],
        [
         "37",
         "The symptoms of radiation enteritis include diarrhea, nausea, vomiting and stomach cramps. Symptoms occur because of irritation of the intestines from radiation therapy for cancer. Symptoms usually go away several weeks after treatment ends. But sometimes they last longer. Radiation enteritis that goes on for longer can cause anemia and bowel obstruction. Risk factors The risk of radiation enteritis is higher in people undergoing radiation treatments for cancers in the belly and the pelvis. Radiation enteritis occurs because radiation therapy can cause irritation of the intestines.                  By Mayo Clinic Staff By Mayo Clinic Staff  Radiation enteritis care at Mayo Clinic ",
         "834"
        ],
        [
         "38",
         "fatigue,mood_swings,weight_loss,restlessness,sweating,diarrhoea,fast_heart_rate,excessive_hunger,muscle_weakness,irritability,abnormal_menstruation",
         "502"
        ],
        [
         "39",
         "I have been having a high fever for the past few days. It is especially bad at night. I also have a mild headache and have been constipated and having diarrhea.",
         "1026"
        ],
        [
         "40",
         "I have been having frequent headaches and blurred vision. I also have a stiff neck, anxiety, irritability, and visual disturbance. I have also been having stomach problems, including indigestion and acidity.",
         "630"
        ],
        [
         "41",
         "vomiting,yellowish_skin,abdominal_pain,swelling_of_stomach,distention_of_abdomen,fluid_overload",
         "33"
        ],
        [
         "42",
         "vomiting,sunken_eyes,dehydration,diarrhoea",
         "402"
        ],
        [
         "43",
         "itching,skin_rash,stomach_pain,burning_micturition,spotting__urination",
         "308"
        ],
        [
         "44",
         "joint_pain,vomiting,fatigue,yellowish_skin,dark_urine,nausea,loss_of_appetite,abdominal_pain,yellowing_of_eyes",
         "467"
        ],
        [
         "45",
         "itching,skin_rash,fatigue,lethargy,high_fever,headache,loss_of_appetite,mild_fever,swelled_lymph_nodes,malaise,red_spots_over_body",
         "193"
        ],
        [
         "46",
         "vomiting,fatigue,anxiety,sweating,headache,nausea,blurred_and_distorted_vision,excessive_hunger,drying_and_tingling_lips,slurred_speech,irritability,palpitations",
         "504"
        ],
        [
         "47",
         "continuous_sneezing,shivering,chills,watering_from_eyes",
         "35"
        ],
        [
         "48",
         "A hemangioma may be present at birth, but more often appears during the first several months of life. It starts as a flat red mark anywhere on the body, most often on the face, scalp, chest or back. Usually a child has only one mark. Some children may have more than one, particularly if they're part of a multiple birth. During your child's first year, the red mark grows rapidly into a spongy, rubbery-looking bump that sticks out from the skin. The hemangioma then enters a rest phase and, eventually, it begins to slowly disappear. Many hemangiomas disappear by age 5, and most are gone by age 10. The skin may be slightly discolored or raised after the hemangioma goes away.",
         "457"
        ],
        [
         "49",
         "chills,vomiting,fatigue,weight_loss,cough,high_fever,breathlessness,sweating,loss_of_appetite,mild_fever,yellowing_of_eyes,swelled_lymph_nodes,malaise,phlegm,chest_pain,blood_in_sputum",
         "1019"
        ]
       ],
       "shape": {
        "columns": 2,
        "rows": 7043
       }
      },
      "text/html": [
       "<div>\n",
       "<style scoped>\n",
       "    .dataframe tbody tr th:only-of-type {\n",
       "        vertical-align: middle;\n",
       "    }\n",
       "\n",
       "    .dataframe tbody tr th {\n",
       "        vertical-align: top;\n",
       "    }\n",
       "\n",
       "    .dataframe thead th {\n",
       "        text-align: right;\n",
       "    }\n",
       "</style>\n",
       "<table border=\"1\" class=\"dataframe\">\n",
       "  <thead>\n",
       "    <tr style=\"text-align: right;\">\n",
       "      <th></th>\n",
       "      <th>text</th>\n",
       "      <th>label</th>\n",
       "    </tr>\n",
       "  </thead>\n",
       "  <tbody>\n",
       "    <tr>\n",
       "      <th>0</th>\n",
       "      <td>I have been having migraines and headaches. I ...</td>\n",
       "      <td>308</td>\n",
       "    </tr>\n",
       "    <tr>\n",
       "      <th>1</th>\n",
       "      <td>I have asthma and I get wheezing and breathing...</td>\n",
       "      <td>35</td>\n",
       "    </tr>\n",
       "    <tr>\n",
       "      <th>2</th>\n",
       "      <td>Signs and symptoms of primary ovarian insuffic...</td>\n",
       "      <td>798</td>\n",
       "    </tr>\n",
       "    <tr>\n",
       "      <th>3</th>\n",
       "      <td>cough,high_fever,breathlessness,family_history...</td>\n",
       "      <td>149</td>\n",
       "    </tr>\n",
       "    <tr>\n",
       "      <th>4</th>\n",
       "      <td>chills,vomiting,high_fever,sweating,headache,n...</td>\n",
       "      <td>596</td>\n",
       "    </tr>\n",
       "    <tr>\n",
       "      <th>...</th>\n",
       "      <td>...</td>\n",
       "      <td>...</td>\n",
       "    </tr>\n",
       "    <tr>\n",
       "      <th>1404</th>\n",
       "      <td>itching,skin_rash,stomach_pain,burning_micturi...</td>\n",
       "      <td>308</td>\n",
       "    </tr>\n",
       "    <tr>\n",
       "      <th>1405</th>\n",
       "      <td>muscle_wasting,high_fever,extra_marital_contacts</td>\n",
       "      <td>27</td>\n",
       "    </tr>\n",
       "    <tr>\n",
       "      <th>1406</th>\n",
       "      <td>The signs and symptoms of gastritis include:  ...</td>\n",
       "      <td>401</td>\n",
       "    </tr>\n",
       "    <tr>\n",
       "      <th>1407</th>\n",
       "      <td>vomiting,indigestion,loss_of_appetite,abdomina...</td>\n",
       "      <td>735</td>\n",
       "    </tr>\n",
       "    <tr>\n",
       "      <th>1408</th>\n",
       "      <td>I've been having a lot of trouble breathing, a...</td>\n",
       "      <td>1026</td>\n",
       "    </tr>\n",
       "  </tbody>\n",
       "</table>\n",
       "<p>7043 rows × 2 columns</p>\n",
       "</div>"
      ],
      "text/plain": [
       "                                                   text  label\n",
       "0     I have been having migraines and headaches. I ...    308\n",
       "1     I have asthma and I get wheezing and breathing...     35\n",
       "2     Signs and symptoms of primary ovarian insuffic...    798\n",
       "3     cough,high_fever,breathlessness,family_history...    149\n",
       "4     chills,vomiting,high_fever,sweating,headache,n...    596\n",
       "...                                                 ...    ...\n",
       "1404  itching,skin_rash,stomach_pain,burning_micturi...    308\n",
       "1405   muscle_wasting,high_fever,extra_marital_contacts     27\n",
       "1406  The signs and symptoms of gastritis include:  ...    401\n",
       "1407  vomiting,indigestion,loss_of_appetite,abdomina...    735\n",
       "1408  I've been having a lot of trouble breathing, a...   1026\n",
       "\n",
       "[7043 rows x 2 columns]"
      ]
     },
     "execution_count": 151,
     "metadata": {},
     "output_type": "execute_result"
    }
   ],
   "source": [
    "files = ['datasets/sdTrain.csv','datasets/sdTest.csv']\n",
    "df1 = pd.read_csv(files[0])\n",
    "df2 = pd.read_csv(files[1])\n",
    "df3 = pd.concat([df1,df2])\n",
    "df3"
   ]
  },
  {
   "cell_type": "code",
   "execution_count": null,
   "id": "176b4344",
   "metadata": {},
   "outputs": [],
   "source": [
    "df3['target'] = binner(df3['label'])\n",
    "df3.drop('label', axis=1, inplace=True)\n",
    "df3.to_csv('datasets/binnedData.csv')"
   ]
  },
  {
   "cell_type": "code",
   "execution_count": null,
   "id": "8a56652e",
   "metadata": {},
   "outputs": [],
   "source": [
    "tfidf = TfidfVectorizer()\n",
    "X = df3['text']\n",
    "y = df3['target']\n",
    "X_train, X_test, y_train, y_test = train_test_split(X, y, test_size=.2, random_state=42)"
   ]
  },
  {
   "cell_type": "code",
   "execution_count": 160,
   "id": "e247738e",
   "metadata": {},
   "outputs": [],
   "source": [
    "X_train_vec = tfidf.fit_transform(X_train)\n",
    "X_test_vec = tfidf.transform(X_test)"
   ]
  },
  {
   "cell_type": "code",
   "execution_count": null,
   "id": "d0ac6cdb",
   "metadata": {},
   "outputs": [
    {
     "data": {
      "text/html": [
       "<style>#sk-container-id-8 {\n",
       "  /* Definition of color scheme common for light and dark mode */\n",
       "  --sklearn-color-text: #000;\n",
       "  --sklearn-color-text-muted: #666;\n",
       "  --sklearn-color-line: gray;\n",
       "  /* Definition of color scheme for unfitted estimators */\n",
       "  --sklearn-color-unfitted-level-0: #fff5e6;\n",
       "  --sklearn-color-unfitted-level-1: #f6e4d2;\n",
       "  --sklearn-color-unfitted-level-2: #ffe0b3;\n",
       "  --sklearn-color-unfitted-level-3: chocolate;\n",
       "  /* Definition of color scheme for fitted estimators */\n",
       "  --sklearn-color-fitted-level-0: #f0f8ff;\n",
       "  --sklearn-color-fitted-level-1: #d4ebff;\n",
       "  --sklearn-color-fitted-level-2: #b3dbfd;\n",
       "  --sklearn-color-fitted-level-3: cornflowerblue;\n",
       "\n",
       "  /* Specific color for light theme */\n",
       "  --sklearn-color-text-on-default-background: var(--sg-text-color, var(--theme-code-foreground, var(--jp-content-font-color1, black)));\n",
       "  --sklearn-color-background: var(--sg-background-color, var(--theme-background, var(--jp-layout-color0, white)));\n",
       "  --sklearn-color-border-box: var(--sg-text-color, var(--theme-code-foreground, var(--jp-content-font-color1, black)));\n",
       "  --sklearn-color-icon: #696969;\n",
       "\n",
       "  @media (prefers-color-scheme: dark) {\n",
       "    /* Redefinition of color scheme for dark theme */\n",
       "    --sklearn-color-text-on-default-background: var(--sg-text-color, var(--theme-code-foreground, var(--jp-content-font-color1, white)));\n",
       "    --sklearn-color-background: var(--sg-background-color, var(--theme-background, var(--jp-layout-color0, #111)));\n",
       "    --sklearn-color-border-box: var(--sg-text-color, var(--theme-code-foreground, var(--jp-content-font-color1, white)));\n",
       "    --sklearn-color-icon: #878787;\n",
       "  }\n",
       "}\n",
       "\n",
       "#sk-container-id-8 {\n",
       "  color: var(--sklearn-color-text);\n",
       "}\n",
       "\n",
       "#sk-container-id-8 pre {\n",
       "  padding: 0;\n",
       "}\n",
       "\n",
       "#sk-container-id-8 input.sk-hidden--visually {\n",
       "  border: 0;\n",
       "  clip: rect(1px 1px 1px 1px);\n",
       "  clip: rect(1px, 1px, 1px, 1px);\n",
       "  height: 1px;\n",
       "  margin: -1px;\n",
       "  overflow: hidden;\n",
       "  padding: 0;\n",
       "  position: absolute;\n",
       "  width: 1px;\n",
       "}\n",
       "\n",
       "#sk-container-id-8 div.sk-dashed-wrapped {\n",
       "  border: 1px dashed var(--sklearn-color-line);\n",
       "  margin: 0 0.4em 0.5em 0.4em;\n",
       "  box-sizing: border-box;\n",
       "  padding-bottom: 0.4em;\n",
       "  background-color: var(--sklearn-color-background);\n",
       "}\n",
       "\n",
       "#sk-container-id-8 div.sk-container {\n",
       "  /* jupyter's `normalize.less` sets `[hidden] { display: none; }`\n",
       "     but bootstrap.min.css set `[hidden] { display: none !important; }`\n",
       "     so we also need the `!important` here to be able to override the\n",
       "     default hidden behavior on the sphinx rendered scikit-learn.org.\n",
       "     See: https://github.com/scikit-learn/scikit-learn/issues/21755 */\n",
       "  display: inline-block !important;\n",
       "  position: relative;\n",
       "}\n",
       "\n",
       "#sk-container-id-8 div.sk-text-repr-fallback {\n",
       "  display: none;\n",
       "}\n",
       "\n",
       "div.sk-parallel-item,\n",
       "div.sk-serial,\n",
       "div.sk-item {\n",
       "  /* draw centered vertical line to link estimators */\n",
       "  background-image: linear-gradient(var(--sklearn-color-text-on-default-background), var(--sklearn-color-text-on-default-background));\n",
       "  background-size: 2px 100%;\n",
       "  background-repeat: no-repeat;\n",
       "  background-position: center center;\n",
       "}\n",
       "\n",
       "/* Parallel-specific style estimator block */\n",
       "\n",
       "#sk-container-id-8 div.sk-parallel-item::after {\n",
       "  content: \"\";\n",
       "  width: 100%;\n",
       "  border-bottom: 2px solid var(--sklearn-color-text-on-default-background);\n",
       "  flex-grow: 1;\n",
       "}\n",
       "\n",
       "#sk-container-id-8 div.sk-parallel {\n",
       "  display: flex;\n",
       "  align-items: stretch;\n",
       "  justify-content: center;\n",
       "  background-color: var(--sklearn-color-background);\n",
       "  position: relative;\n",
       "}\n",
       "\n",
       "#sk-container-id-8 div.sk-parallel-item {\n",
       "  display: flex;\n",
       "  flex-direction: column;\n",
       "}\n",
       "\n",
       "#sk-container-id-8 div.sk-parallel-item:first-child::after {\n",
       "  align-self: flex-end;\n",
       "  width: 50%;\n",
       "}\n",
       "\n",
       "#sk-container-id-8 div.sk-parallel-item:last-child::after {\n",
       "  align-self: flex-start;\n",
       "  width: 50%;\n",
       "}\n",
       "\n",
       "#sk-container-id-8 div.sk-parallel-item:only-child::after {\n",
       "  width: 0;\n",
       "}\n",
       "\n",
       "/* Serial-specific style estimator block */\n",
       "\n",
       "#sk-container-id-8 div.sk-serial {\n",
       "  display: flex;\n",
       "  flex-direction: column;\n",
       "  align-items: center;\n",
       "  background-color: var(--sklearn-color-background);\n",
       "  padding-right: 1em;\n",
       "  padding-left: 1em;\n",
       "}\n",
       "\n",
       "\n",
       "/* Toggleable style: style used for estimator/Pipeline/ColumnTransformer box that is\n",
       "clickable and can be expanded/collapsed.\n",
       "- Pipeline and ColumnTransformer use this feature and define the default style\n",
       "- Estimators will overwrite some part of the style using the `sk-estimator` class\n",
       "*/\n",
       "\n",
       "/* Pipeline and ColumnTransformer style (default) */\n",
       "\n",
       "#sk-container-id-8 div.sk-toggleable {\n",
       "  /* Default theme specific background. It is overwritten whether we have a\n",
       "  specific estimator or a Pipeline/ColumnTransformer */\n",
       "  background-color: var(--sklearn-color-background);\n",
       "}\n",
       "\n",
       "/* Toggleable label */\n",
       "#sk-container-id-8 label.sk-toggleable__label {\n",
       "  cursor: pointer;\n",
       "  display: flex;\n",
       "  width: 100%;\n",
       "  margin-bottom: 0;\n",
       "  padding: 0.5em;\n",
       "  box-sizing: border-box;\n",
       "  text-align: center;\n",
       "  align-items: start;\n",
       "  justify-content: space-between;\n",
       "  gap: 0.5em;\n",
       "}\n",
       "\n",
       "#sk-container-id-8 label.sk-toggleable__label .caption {\n",
       "  font-size: 0.6rem;\n",
       "  font-weight: lighter;\n",
       "  color: var(--sklearn-color-text-muted);\n",
       "}\n",
       "\n",
       "#sk-container-id-8 label.sk-toggleable__label-arrow:before {\n",
       "  /* Arrow on the left of the label */\n",
       "  content: \"▸\";\n",
       "  float: left;\n",
       "  margin-right: 0.25em;\n",
       "  color: var(--sklearn-color-icon);\n",
       "}\n",
       "\n",
       "#sk-container-id-8 label.sk-toggleable__label-arrow:hover:before {\n",
       "  color: var(--sklearn-color-text);\n",
       "}\n",
       "\n",
       "/* Toggleable content - dropdown */\n",
       "\n",
       "#sk-container-id-8 div.sk-toggleable__content {\n",
       "  max-height: 0;\n",
       "  max-width: 0;\n",
       "  overflow: hidden;\n",
       "  text-align: left;\n",
       "  /* unfitted */\n",
       "  background-color: var(--sklearn-color-unfitted-level-0);\n",
       "}\n",
       "\n",
       "#sk-container-id-8 div.sk-toggleable__content.fitted {\n",
       "  /* fitted */\n",
       "  background-color: var(--sklearn-color-fitted-level-0);\n",
       "}\n",
       "\n",
       "#sk-container-id-8 div.sk-toggleable__content pre {\n",
       "  margin: 0.2em;\n",
       "  border-radius: 0.25em;\n",
       "  color: var(--sklearn-color-text);\n",
       "  /* unfitted */\n",
       "  background-color: var(--sklearn-color-unfitted-level-0);\n",
       "}\n",
       "\n",
       "#sk-container-id-8 div.sk-toggleable__content.fitted pre {\n",
       "  /* unfitted */\n",
       "  background-color: var(--sklearn-color-fitted-level-0);\n",
       "}\n",
       "\n",
       "#sk-container-id-8 input.sk-toggleable__control:checked~div.sk-toggleable__content {\n",
       "  /* Expand drop-down */\n",
       "  max-height: 200px;\n",
       "  max-width: 100%;\n",
       "  overflow: auto;\n",
       "}\n",
       "\n",
       "#sk-container-id-8 input.sk-toggleable__control:checked~label.sk-toggleable__label-arrow:before {\n",
       "  content: \"▾\";\n",
       "}\n",
       "\n",
       "/* Pipeline/ColumnTransformer-specific style */\n",
       "\n",
       "#sk-container-id-8 div.sk-label input.sk-toggleable__control:checked~label.sk-toggleable__label {\n",
       "  color: var(--sklearn-color-text);\n",
       "  background-color: var(--sklearn-color-unfitted-level-2);\n",
       "}\n",
       "\n",
       "#sk-container-id-8 div.sk-label.fitted input.sk-toggleable__control:checked~label.sk-toggleable__label {\n",
       "  background-color: var(--sklearn-color-fitted-level-2);\n",
       "}\n",
       "\n",
       "/* Estimator-specific style */\n",
       "\n",
       "/* Colorize estimator box */\n",
       "#sk-container-id-8 div.sk-estimator input.sk-toggleable__control:checked~label.sk-toggleable__label {\n",
       "  /* unfitted */\n",
       "  background-color: var(--sklearn-color-unfitted-level-2);\n",
       "}\n",
       "\n",
       "#sk-container-id-8 div.sk-estimator.fitted input.sk-toggleable__control:checked~label.sk-toggleable__label {\n",
       "  /* fitted */\n",
       "  background-color: var(--sklearn-color-fitted-level-2);\n",
       "}\n",
       "\n",
       "#sk-container-id-8 div.sk-label label.sk-toggleable__label,\n",
       "#sk-container-id-8 div.sk-label label {\n",
       "  /* The background is the default theme color */\n",
       "  color: var(--sklearn-color-text-on-default-background);\n",
       "}\n",
       "\n",
       "/* On hover, darken the color of the background */\n",
       "#sk-container-id-8 div.sk-label:hover label.sk-toggleable__label {\n",
       "  color: var(--sklearn-color-text);\n",
       "  background-color: var(--sklearn-color-unfitted-level-2);\n",
       "}\n",
       "\n",
       "/* Label box, darken color on hover, fitted */\n",
       "#sk-container-id-8 div.sk-label.fitted:hover label.sk-toggleable__label.fitted {\n",
       "  color: var(--sklearn-color-text);\n",
       "  background-color: var(--sklearn-color-fitted-level-2);\n",
       "}\n",
       "\n",
       "/* Estimator label */\n",
       "\n",
       "#sk-container-id-8 div.sk-label label {\n",
       "  font-family: monospace;\n",
       "  font-weight: bold;\n",
       "  display: inline-block;\n",
       "  line-height: 1.2em;\n",
       "}\n",
       "\n",
       "#sk-container-id-8 div.sk-label-container {\n",
       "  text-align: center;\n",
       "}\n",
       "\n",
       "/* Estimator-specific */\n",
       "#sk-container-id-8 div.sk-estimator {\n",
       "  font-family: monospace;\n",
       "  border: 1px dotted var(--sklearn-color-border-box);\n",
       "  border-radius: 0.25em;\n",
       "  box-sizing: border-box;\n",
       "  margin-bottom: 0.5em;\n",
       "  /* unfitted */\n",
       "  background-color: var(--sklearn-color-unfitted-level-0);\n",
       "}\n",
       "\n",
       "#sk-container-id-8 div.sk-estimator.fitted {\n",
       "  /* fitted */\n",
       "  background-color: var(--sklearn-color-fitted-level-0);\n",
       "}\n",
       "\n",
       "/* on hover */\n",
       "#sk-container-id-8 div.sk-estimator:hover {\n",
       "  /* unfitted */\n",
       "  background-color: var(--sklearn-color-unfitted-level-2);\n",
       "}\n",
       "\n",
       "#sk-container-id-8 div.sk-estimator.fitted:hover {\n",
       "  /* fitted */\n",
       "  background-color: var(--sklearn-color-fitted-level-2);\n",
       "}\n",
       "\n",
       "/* Specification for estimator info (e.g. \"i\" and \"?\") */\n",
       "\n",
       "/* Common style for \"i\" and \"?\" */\n",
       "\n",
       ".sk-estimator-doc-link,\n",
       "a:link.sk-estimator-doc-link,\n",
       "a:visited.sk-estimator-doc-link {\n",
       "  float: right;\n",
       "  font-size: smaller;\n",
       "  line-height: 1em;\n",
       "  font-family: monospace;\n",
       "  background-color: var(--sklearn-color-background);\n",
       "  border-radius: 1em;\n",
       "  height: 1em;\n",
       "  width: 1em;\n",
       "  text-decoration: none !important;\n",
       "  margin-left: 0.5em;\n",
       "  text-align: center;\n",
       "  /* unfitted */\n",
       "  border: var(--sklearn-color-unfitted-level-1) 1pt solid;\n",
       "  color: var(--sklearn-color-unfitted-level-1);\n",
       "}\n",
       "\n",
       ".sk-estimator-doc-link.fitted,\n",
       "a:link.sk-estimator-doc-link.fitted,\n",
       "a:visited.sk-estimator-doc-link.fitted {\n",
       "  /* fitted */\n",
       "  border: var(--sklearn-color-fitted-level-1) 1pt solid;\n",
       "  color: var(--sklearn-color-fitted-level-1);\n",
       "}\n",
       "\n",
       "/* On hover */\n",
       "div.sk-estimator:hover .sk-estimator-doc-link:hover,\n",
       ".sk-estimator-doc-link:hover,\n",
       "div.sk-label-container:hover .sk-estimator-doc-link:hover,\n",
       ".sk-estimator-doc-link:hover {\n",
       "  /* unfitted */\n",
       "  background-color: var(--sklearn-color-unfitted-level-3);\n",
       "  color: var(--sklearn-color-background);\n",
       "  text-decoration: none;\n",
       "}\n",
       "\n",
       "div.sk-estimator.fitted:hover .sk-estimator-doc-link.fitted:hover,\n",
       ".sk-estimator-doc-link.fitted:hover,\n",
       "div.sk-label-container:hover .sk-estimator-doc-link.fitted:hover,\n",
       ".sk-estimator-doc-link.fitted:hover {\n",
       "  /* fitted */\n",
       "  background-color: var(--sklearn-color-fitted-level-3);\n",
       "  color: var(--sklearn-color-background);\n",
       "  text-decoration: none;\n",
       "}\n",
       "\n",
       "/* Span, style for the box shown on hovering the info icon */\n",
       ".sk-estimator-doc-link span {\n",
       "  display: none;\n",
       "  z-index: 9999;\n",
       "  position: relative;\n",
       "  font-weight: normal;\n",
       "  right: .2ex;\n",
       "  padding: .5ex;\n",
       "  margin: .5ex;\n",
       "  width: min-content;\n",
       "  min-width: 20ex;\n",
       "  max-width: 50ex;\n",
       "  color: var(--sklearn-color-text);\n",
       "  box-shadow: 2pt 2pt 4pt #999;\n",
       "  /* unfitted */\n",
       "  background: var(--sklearn-color-unfitted-level-0);\n",
       "  border: .5pt solid var(--sklearn-color-unfitted-level-3);\n",
       "}\n",
       "\n",
       ".sk-estimator-doc-link.fitted span {\n",
       "  /* fitted */\n",
       "  background: var(--sklearn-color-fitted-level-0);\n",
       "  border: var(--sklearn-color-fitted-level-3);\n",
       "}\n",
       "\n",
       ".sk-estimator-doc-link:hover span {\n",
       "  display: block;\n",
       "}\n",
       "\n",
       "/* \"?\"-specific style due to the `<a>` HTML tag */\n",
       "\n",
       "#sk-container-id-8 a.estimator_doc_link {\n",
       "  float: right;\n",
       "  font-size: 1rem;\n",
       "  line-height: 1em;\n",
       "  font-family: monospace;\n",
       "  background-color: var(--sklearn-color-background);\n",
       "  border-radius: 1rem;\n",
       "  height: 1rem;\n",
       "  width: 1rem;\n",
       "  text-decoration: none;\n",
       "  /* unfitted */\n",
       "  color: var(--sklearn-color-unfitted-level-1);\n",
       "  border: var(--sklearn-color-unfitted-level-1) 1pt solid;\n",
       "}\n",
       "\n",
       "#sk-container-id-8 a.estimator_doc_link.fitted {\n",
       "  /* fitted */\n",
       "  border: var(--sklearn-color-fitted-level-1) 1pt solid;\n",
       "  color: var(--sklearn-color-fitted-level-1);\n",
       "}\n",
       "\n",
       "/* On hover */\n",
       "#sk-container-id-8 a.estimator_doc_link:hover {\n",
       "  /* unfitted */\n",
       "  background-color: var(--sklearn-color-unfitted-level-3);\n",
       "  color: var(--sklearn-color-background);\n",
       "  text-decoration: none;\n",
       "}\n",
       "\n",
       "#sk-container-id-8 a.estimator_doc_link.fitted:hover {\n",
       "  /* fitted */\n",
       "  background-color: var(--sklearn-color-fitted-level-3);\n",
       "}\n",
       "</style><div id=\"sk-container-id-8\" class=\"sk-top-container\"><div class=\"sk-text-repr-fallback\"><pre>RandomForestClassifier(random_state=1)</pre><b>In a Jupyter environment, please rerun this cell to show the HTML representation or trust the notebook. <br />On GitHub, the HTML representation is unable to render, please try loading this page with nbviewer.org.</b></div><div class=\"sk-container\" hidden><div class=\"sk-item\"><div class=\"sk-estimator fitted sk-toggleable\"><input class=\"sk-toggleable__control sk-hidden--visually\" id=\"sk-estimator-id-12\" type=\"checkbox\" checked><label for=\"sk-estimator-id-12\" class=\"sk-toggleable__label fitted sk-toggleable__label-arrow\"><div><div>RandomForestClassifier</div></div><div><a class=\"sk-estimator-doc-link fitted\" rel=\"noreferrer\" target=\"_blank\" href=\"https://scikit-learn.org/1.6/modules/generated/sklearn.ensemble.RandomForestClassifier.html\">?<span>Documentation for RandomForestClassifier</span></a><span class=\"sk-estimator-doc-link fitted\">i<span>Fitted</span></span></div></label><div class=\"sk-toggleable__content fitted\"><pre>RandomForestClassifier(random_state=1)</pre></div> </div></div></div></div>"
      ],
      "text/plain": [
       "RandomForestClassifier(random_state=1)"
      ]
     },
     "execution_count": 161,
     "metadata": {},
     "output_type": "execute_result"
    }
   ],
   "source": [
    "model = RandomForestClassifier(random_state=1)\n",
    "model.fit(X_train_vec, y_train)"
   ]
  },
  {
   "cell_type": "code",
   "execution_count": 162,
   "id": "d8bdfd3d",
   "metadata": {},
   "outputs": [],
   "source": [
    "preds = model.predict(X_test_vec)"
   ]
  },
  {
   "cell_type": "code",
   "execution_count": null,
   "id": "b84fd751",
   "metadata": {},
   "outputs": [
    {
     "data": {
      "text/plain": [
       "(1, 7762)"
      ]
     },
     "execution_count": 191,
     "metadata": {},
     "output_type": "execute_result"
    }
   ],
   "source": [
    "newentry = ''\n",
    "X2 = tfidf.transform([newentry])\n",
    "X2.shape"
   ]
  },
  {
   "cell_type": "code",
   "execution_count": 192,
   "id": "b2f99c41",
   "metadata": {},
   "outputs": [],
   "source": [
    "pred2 = model.predict(X2)"
   ]
  },
  {
   "cell_type": "code",
   "execution_count": 193,
   "id": "e9281306",
   "metadata": {},
   "outputs": [
    {
     "data": {
      "text/plain": [
       "array([5])"
      ]
     },
     "execution_count": 193,
     "metadata": {},
     "output_type": "execute_result"
    }
   ],
   "source": [
    "pred2"
   ]
  },
  {
   "cell_type": "code",
   "execution_count": 66,
   "id": "d0b56d74",
   "metadata": {},
   "outputs": [],
   "source": [
    "preds = pipeline.predict(X_test)"
   ]
  },
  {
   "cell_type": "code",
   "execution_count": 163,
   "id": "ce9bb38b",
   "metadata": {},
   "outputs": [
    {
     "data": {
      "text/plain": [
       "0.879347054648687"
      ]
     },
     "execution_count": 163,
     "metadata": {},
     "output_type": "execute_result"
    }
   ],
   "source": [
    "accuracy_score(y_test, preds)"
   ]
  }
 ],
 "metadata": {
  "kernelspec": {
   "display_name": "dev",
   "language": "python",
   "name": "python3"
  },
  "language_info": {
   "codemirror_mode": {
    "name": "ipython",
    "version": 3
   },
   "file_extension": ".py",
   "mimetype": "text/x-python",
   "name": "python",
   "nbconvert_exporter": "python",
   "pygments_lexer": "ipython3",
   "version": "3.10.16"
  }
 },
 "nbformat": 4,
 "nbformat_minor": 5
}
