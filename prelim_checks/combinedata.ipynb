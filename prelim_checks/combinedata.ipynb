{
 "cells": [
  {
   "cell_type": "code",
   "execution_count": 16,
   "id": "3060ccca",
   "metadata": {},
   "outputs": [],
   "source": [
    "import pandas as pd\n",
    "from pathlib import Path\n",
    "\n",
    "train = Path(\"../datasets/sdTrain.csv\")\n",
    "test = Path(\"../datasets/sdTest.csv\")\n",
    "\n",
    "traindf = pd.read_csv(train)\n",
    "testdf = pd.read_csv(test)\n"
   ]
  },
  {
   "cell_type": "code",
   "execution_count": 8,
   "id": "e79c1bea",
   "metadata": {},
   "outputs": [
    {
     "name": "stdout",
     "output_type": "stream",
     "text": [
      "5634\n"
     ]
    },
    {
     "data": {
      "text/html": [
       "<div>\n",
       "<style scoped>\n",
       "    .dataframe tbody tr th:only-of-type {\n",
       "        vertical-align: middle;\n",
       "    }\n",
       "\n",
       "    .dataframe tbody tr th {\n",
       "        vertical-align: top;\n",
       "    }\n",
       "\n",
       "    .dataframe thead th {\n",
       "        text-align: right;\n",
       "    }\n",
       "</style>\n",
       "<table border=\"1\" class=\"dataframe\">\n",
       "  <thead>\n",
       "    <tr style=\"text-align: right;\">\n",
       "      <th></th>\n",
       "      <th>text</th>\n",
       "      <th>label</th>\n",
       "    </tr>\n",
       "  </thead>\n",
       "  <tbody>\n",
       "    <tr>\n",
       "      <th>0</th>\n",
       "      <td>I have been having migraines and headaches. I ...</td>\n",
       "      <td>308</td>\n",
       "    </tr>\n",
       "    <tr>\n",
       "      <th>1</th>\n",
       "      <td>I have asthma and I get wheezing and breathing...</td>\n",
       "      <td>35</td>\n",
       "    </tr>\n",
       "    <tr>\n",
       "      <th>2</th>\n",
       "      <td>Signs and symptoms of primary ovarian insuffic...</td>\n",
       "      <td>798</td>\n",
       "    </tr>\n",
       "    <tr>\n",
       "      <th>3</th>\n",
       "      <td>cough,high_fever,breathlessness,family_history...</td>\n",
       "      <td>149</td>\n",
       "    </tr>\n",
       "    <tr>\n",
       "      <th>4</th>\n",
       "      <td>chills,vomiting,high_fever,sweating,headache,n...</td>\n",
       "      <td>596</td>\n",
       "    </tr>\n",
       "  </tbody>\n",
       "</table>\n",
       "</div>"
      ],
      "text/plain": [
       "                                                text  label\n",
       "0  I have been having migraines and headaches. I ...    308\n",
       "1  I have asthma and I get wheezing and breathing...     35\n",
       "2  Signs and symptoms of primary ovarian insuffic...    798\n",
       "3  cough,high_fever,breathlessness,family_history...    149\n",
       "4  chills,vomiting,high_fever,sweating,headache,n...    596"
      ]
     },
     "execution_count": 8,
     "metadata": {},
     "output_type": "execute_result"
    }
   ],
   "source": [
    "# This is the training dataset and its properties.\n",
    "\n",
    "\n",
    "print(len(traindf))\n",
    "traindf.head()"
   ]
  },
  {
   "cell_type": "code",
   "execution_count": 9,
   "id": "0ab79787",
   "metadata": {},
   "outputs": [
    {
     "name": "stdout",
     "output_type": "stream",
     "text": [
      "1409\n"
     ]
    },
    {
     "data": {
      "text/html": [
       "<div>\n",
       "<style scoped>\n",
       "    .dataframe tbody tr th:only-of-type {\n",
       "        vertical-align: middle;\n",
       "    }\n",
       "\n",
       "    .dataframe tbody tr th {\n",
       "        vertical-align: top;\n",
       "    }\n",
       "\n",
       "    .dataframe thead th {\n",
       "        text-align: right;\n",
       "    }\n",
       "</style>\n",
       "<table border=\"1\" class=\"dataframe\">\n",
       "  <thead>\n",
       "    <tr style=\"text-align: right;\">\n",
       "      <th></th>\n",
       "      <th>text</th>\n",
       "      <th>label</th>\n",
       "    </tr>\n",
       "  </thead>\n",
       "  <tbody>\n",
       "    <tr>\n",
       "      <th>0</th>\n",
       "      <td>itching,vomiting,fatigue,weight_loss,high_feve...</td>\n",
       "      <td>541</td>\n",
       "    </tr>\n",
       "    <tr>\n",
       "      <th>1</th>\n",
       "      <td>fatigue,weight_loss,restlessness,sweating,diar...</td>\n",
       "      <td>502</td>\n",
       "    </tr>\n",
       "    <tr>\n",
       "      <th>2</th>\n",
       "      <td>constipation,pain_during_bowel_movements,pain_...</td>\n",
       "      <td>297</td>\n",
       "    </tr>\n",
       "    <tr>\n",
       "      <th>3</th>\n",
       "      <td>chills,vomiting,fatigue,weight_loss,cough,high...</td>\n",
       "      <td>1019</td>\n",
       "    </tr>\n",
       "    <tr>\n",
       "      <th>4</th>\n",
       "      <td>vomiting,yellowish_skin,abdominal_pain,swellin...</td>\n",
       "      <td>33</td>\n",
       "    </tr>\n",
       "  </tbody>\n",
       "</table>\n",
       "</div>"
      ],
      "text/plain": [
       "                                                text  label\n",
       "0  itching,vomiting,fatigue,weight_loss,high_feve...    541\n",
       "1  fatigue,weight_loss,restlessness,sweating,diar...    502\n",
       "2  constipation,pain_during_bowel_movements,pain_...    297\n",
       "3  chills,vomiting,fatigue,weight_loss,cough,high...   1019\n",
       "4  vomiting,yellowish_skin,abdominal_pain,swellin...     33"
      ]
     },
     "execution_count": 9,
     "metadata": {},
     "output_type": "execute_result"
    }
   ],
   "source": [
    "# This is the testing dataset and its properties.\n",
    "\n",
    "\n",
    "print(len(testdf))\n",
    "testdf.head()"
   ]
  },
  {
   "cell_type": "code",
   "execution_count": 58,
   "id": "65f2a8ca",
   "metadata": {},
   "outputs": [
    {
     "name": "stdout",
     "output_type": "stream",
     "text": [
      "7043\n"
     ]
    },
    {
     "data": {
      "text/html": [
       "<div>\n",
       "<style scoped>\n",
       "    .dataframe tbody tr th:only-of-type {\n",
       "        vertical-align: middle;\n",
       "    }\n",
       "\n",
       "    .dataframe tbody tr th {\n",
       "        vertical-align: top;\n",
       "    }\n",
       "\n",
       "    .dataframe thead th {\n",
       "        text-align: right;\n",
       "    }\n",
       "</style>\n",
       "<table border=\"1\" class=\"dataframe\">\n",
       "  <thead>\n",
       "    <tr style=\"text-align: right;\">\n",
       "      <th></th>\n",
       "      <th>text</th>\n",
       "      <th>label</th>\n",
       "    </tr>\n",
       "  </thead>\n",
       "  <tbody>\n",
       "    <tr>\n",
       "      <th>0</th>\n",
       "      <td>I have been having migraines and headaches. I can't sleep. My whole body is shaking and shivering. I feel dizzy sometimes.</td>\n",
       "      <td>308</td>\n",
       "    </tr>\n",
       "    <tr>\n",
       "      <th>1</th>\n",
       "      <td>I have asthma and I get wheezing and breathing problems. I also have fevers, headaches, and I feel tired all the time.</td>\n",
       "      <td>35</td>\n",
       "    </tr>\n",
       "    <tr>\n",
       "      <th>2</th>\n",
       "      <td>Signs and symptoms of primary ovarian insufficiency are similar to those of menopause or estrogen deficiency. They include:  Irregular or skipped periods, which might be present for years or develop after a pregnancy or after stopping birth control pills Difficulty getting pregnant Hot flashes Night sweats Vaginal dryness Dry eyes Irritability or difficulty concentrating Decreased sexual desire  When to see a health care provider If you've missed your period for three months or more, see your health care provider to determine the cause. You can miss your period for a number of reasons — including pregnancy, stress, or a change in diet or exercise habits — but it's best to get evaluated whenever your menstrual cycle changes. Even if you don't mind not having periods, it's advisable to see your provider to find out what's causing the change. Low estrogen levels can lead to bone loss and an increased risk of heart disease.</td>\n",
       "      <td>798</td>\n",
       "    </tr>\n",
       "    <tr>\n",
       "      <th>3</th>\n",
       "      <td>cough,high_fever,breathlessness,family_history,mucoid_sputum</td>\n",
       "      <td>149</td>\n",
       "    </tr>\n",
       "    <tr>\n",
       "      <th>4</th>\n",
       "      <td>chills,vomiting,high_fever,sweating,headache,nausea,diarrhoea,muscle_pain</td>\n",
       "      <td>596</td>\n",
       "    </tr>\n",
       "    <tr>\n",
       "      <th>5</th>\n",
       "      <td>Posterior cortical atrophy symptoms vary among people. Symptoms also can vary over time. They tend to gradually get worse. Common symptoms include having trouble with:  Reading, spelling or math. Driving. Getting dressed. Telling the difference between objects that are moving and those that are still. Judging how far away objects are. Using everyday objects or tools. Identifying left from right.  Other common symptoms include:  Anxiety. Confusion. Changes in behavior and personality.  Memory problems may occur later in the disease. Causes The most common cause of posterior cortical atrophy is a form of Alzheimer's disease that's not typical. It affects the back of the brain. Other less common causes include corticobasal degeneration, Lewy body dementia and Creutzfeldt-Jakob disease. Researchers are looking at potential gene variations that may be related to the condition. Risk factors Further study is needed to determine whether the risk factors for Alzheimer's disease may play a role in posterior cortical atrophy.                  By Mayo Clinic Staff By Mayo Clinic Staff  Posterior cortical atrophy care at Mayo Clinic</td>\n",
       "      <td>785</td>\n",
       "    </tr>\n",
       "    <tr>\n",
       "      <th>6</th>\n",
       "      <td>I've been having back pain, a cough, and numbness in my arms and legs. My neck hurts too, and I've been feeling dizzy and off balance.</td>\n",
       "      <td>186</td>\n",
       "    </tr>\n",
       "    <tr>\n",
       "      <th>7</th>\n",
       "      <td>yellowish_skin,nausea,loss_of_appetite,yellowing_of_eyes,family_history</td>\n",
       "      <td>466</td>\n",
       "    </tr>\n",
       "    <tr>\n",
       "      <th>8</th>\n",
       "      <td>joint_pain,neck_pain,knee_pain,hip_joint_pain,swelling_joints,painful_walking</td>\n",
       "      <td>700</td>\n",
       "    </tr>\n",
       "    <tr>\n",
       "      <th>9</th>\n",
       "      <td>An unusual sensation (aura) may precede a temporal lobe seizure, acting as a warning. Not everyone who has temporal lobe seizures has auras, and not everyone who has auras remembers them. The aura is actually the first part of a focal seizure before consciousness is impaired. Examples of auras include:  A sudden sense of unprovoked fear or joy A deja vu experience — a feeling that what's happening has happened before A sudden or strange odor or taste A rising sensation in the abdomen, similar to being on a roller coaster  Sometimes temporal lobe seizures impair your ability to respond to others. This type of temporal lobe seizure usually lasts 30 seconds to two minutes. Characteristic signs and symptoms include:  Loss of awareness of surroundings Staring Lip smacking Repeated swallowing or chewing Unusual finger movements, such as picking motions  After a temporal lobe seizure, you may have:  A period of confusion and difficulty speaking Inability to recall what occurred during the seizure Unawareness of having had a seizure Extreme sleepiness  In extreme cases, what starts as a temporal lobe seizure evolves into a generalized tonic-clonic (grand mal) seizure — featuring convulsions and loss of consciousness.</td>\n",
       "      <td>971</td>\n",
       "    </tr>\n",
       "    <tr>\n",
       "      <th>10</th>\n",
       "      <td>vomiting,yellowish_skin,abdominal_pain,swelling_of_stomach,distention_of_abdomen,history_of_alcohol_consumption,fluid_overload</td>\n",
       "      <td>33</td>\n",
       "    </tr>\n",
       "    <tr>\n",
       "      <th>11</th>\n",
       "      <td>vomiting,fatigue,anxiety,sweating,headache,nausea,excessive_hunger,drying_and_tingling_lips,slurred_speech,irritability,palpitations</td>\n",
       "      <td>504</td>\n",
       "    </tr>\n",
       "    <tr>\n",
       "      <th>12</th>\n",
       "      <td>fatigue,mood_swings,weight_loss,restlessness,sweating,diarrhoea,excessive_hunger,muscle_weakness,irritability,abnormal_menstruation</td>\n",
       "      <td>502</td>\n",
       "    </tr>\n",
       "    <tr>\n",
       "      <th>13</th>\n",
       "      <td>joint_pain,vomiting,yellowish_skin,dark_urine,nausea,loss_of_appetite,abdominal_pain,diarrhoea,mild_fever,yellowing_of_eyes,muscle_pain</td>\n",
       "      <td>464</td>\n",
       "    </tr>\n",
       "    <tr>\n",
       "      <th>14</th>\n",
       "      <td>skin_rash,chills,joint_pain,vomiting,fatigue,high_fever,headache,nausea,loss_of_appetite,pain_behind_the_eyes,back_pain,malaise,muscle_pain,red_spots_over_body</td>\n",
       "      <td>275</td>\n",
       "    </tr>\n",
       "    <tr>\n",
       "      <th>15</th>\n",
       "      <td>itching,vomiting,yellowish_skin,nausea,loss_of_appetite,abdominal_pain,yellowing_of_eyes</td>\n",
       "      <td>207</td>\n",
       "    </tr>\n",
       "    <tr>\n",
       "      <th>16</th>\n",
       "      <td>You might develop signs and symptoms of an intracranial hematoma right after a head injury, or they may take weeks or longer to appear. You might seem fine after a head injury. This period is called the lucid interval. Over time, pressure on your brain increases, producing some or all of the following signs and symptoms:  Headache that gets worse Vomiting Drowsiness and progressive loss of consciousness Dizziness Confusion Unequal pupil size Slurred speech Loss of movement (paralysis) on the opposite side of the body from the head injury  As more blood fills your brain or the narrow space between your brain and skull, other signs and symptoms may appear, such as:  Lethargy Seizures Unconsciousness</td>\n",
       "      <td>533</td>\n",
       "    </tr>\n",
       "    <tr>\n",
       "      <th>17</th>\n",
       "      <td>muscle_weakness,stiff_neck,swelling_joints,movement_stiffness,painful_walking</td>\n",
       "      <td>72</td>\n",
       "    </tr>\n",
       "    <tr>\n",
       "      <th>18</th>\n",
       "      <td>vomiting,indigestion,loss_of_appetite,abdominal_pain,passage_of_gases,internal_itching</td>\n",
       "      <td>735</td>\n",
       "    </tr>\n",
       "    <tr>\n",
       "      <th>19</th>\n",
       "      <td>chills,vomiting,fatigue,weight_loss,cough,high_fever,breathlessness,sweating,loss_of_appetite,mild_fever,yellowing_of_eyes,swelled_lymph_nodes,malaise,phlegm,chest_pain,blood_in_sputum</td>\n",
       "      <td>1019</td>\n",
       "    </tr>\n",
       "  </tbody>\n",
       "</table>\n",
       "</div>"
      ],
      "text/plain": [
       "                                                                                                                                                                                                                                                                                                                                                                                                                                                                                                                                                                                                                                                                                                                                                                                                                                                                                                                                                                                                                                                                                                                                                                                                                                                                            text  \\\n",
       "0                                                                                                                                                                                                                                                                                                                                                                                                                                                                                                                                                                                                                                                                                                                                                                                                                                                                                                                                                                                                                                                                                                                                                     I have been having migraines and headaches. I can't sleep. My whole body is shaking and shivering. I feel dizzy sometimes.   \n",
       "1                                                                                                                                                                                                                                                                                                                                                                                                                                                                                                                                                                                                                                                                                                                                                                                                                                                                                                                                                                                                                                                                                                                                                         I have asthma and I get wheezing and breathing problems. I also have fevers, headaches, and I feel tired all the time.   \n",
       "2                                                                                                                                                                                                                                                                                                          Signs and symptoms of primary ovarian insufficiency are similar to those of menopause or estrogen deficiency. They include:  Irregular or skipped periods, which might be present for years or develop after a pregnancy or after stopping birth control pills Difficulty getting pregnant Hot flashes Night sweats Vaginal dryness Dry eyes Irritability or difficulty concentrating Decreased sexual desire  When to see a health care provider If you've missed your period for three months or more, see your health care provider to determine the cause. You can miss your period for a number of reasons — including pregnancy, stress, or a change in diet or exercise habits — but it's best to get evaluated whenever your menstrual cycle changes. Even if you don't mind not having periods, it's advisable to see your provider to find out what's causing the change. Low estrogen levels can lead to bone loss and an increased risk of heart disease.   \n",
       "3                                                                                                                                                                                                                                                                                                                                                                                                                                                                                                                                                                                                                                                                                                                                                                                                                                                                                                                                                                                                                                                                                                                                                                                                                   cough,high_fever,breathlessness,family_history,mucoid_sputum   \n",
       "4                                                                                                                                                                                                                                                                                                                                                                                                                                                                                                                                                                                                                                                                                                                                                                                                                                                                                                                                                                                                                                                                                                                                                                                                      chills,vomiting,high_fever,sweating,headache,nausea,diarrhoea,muscle_pain   \n",
       "5                                                                                             Posterior cortical atrophy symptoms vary among people. Symptoms also can vary over time. They tend to gradually get worse. Common symptoms include having trouble with:  Reading, spelling or math. Driving. Getting dressed. Telling the difference between objects that are moving and those that are still. Judging how far away objects are. Using everyday objects or tools. Identifying left from right.  Other common symptoms include:  Anxiety. Confusion. Changes in behavior and personality.  Memory problems may occur later in the disease. Causes The most common cause of posterior cortical atrophy is a form of Alzheimer's disease that's not typical. It affects the back of the brain. Other less common causes include corticobasal degeneration, Lewy body dementia and Creutzfeldt-Jakob disease. Researchers are looking at potential gene variations that may be related to the condition. Risk factors Further study is needed to determine whether the risk factors for Alzheimer's disease may play a role in posterior cortical atrophy.                  By Mayo Clinic Staff By Mayo Clinic Staff  Posterior cortical atrophy care at Mayo Clinic    \n",
       "6                                                                                                                                                                                                                                                                                                                                                                                                                                                                                                                                                                                                                                                                                                                                                                                                                                                                                                                                                                                                                                                                                                                                         I've been having back pain, a cough, and numbness in my arms and legs. My neck hurts too, and I've been feeling dizzy and off balance.   \n",
       "7                                                                                                                                                                                                                                                                                                                                                                                                                                                                                                                                                                                                                                                                                                                                                                                                                                                                                                                                                                                                                                                                                                                                                                                                        yellowish_skin,nausea,loss_of_appetite,yellowing_of_eyes,family_history   \n",
       "8                                                                                                                                                                                                                                                                                                                                                                                                                                                                                                                                                                                                                                                                                                                                                                                                                                                                                                                                                                                                                                                                                                                                                                                                  joint_pain,neck_pain,knee_pain,hip_joint_pain,swelling_joints,painful_walking   \n",
       "9   An unusual sensation (aura) may precede a temporal lobe seizure, acting as a warning. Not everyone who has temporal lobe seizures has auras, and not everyone who has auras remembers them. The aura is actually the first part of a focal seizure before consciousness is impaired. Examples of auras include:  A sudden sense of unprovoked fear or joy A deja vu experience — a feeling that what's happening has happened before A sudden or strange odor or taste A rising sensation in the abdomen, similar to being on a roller coaster  Sometimes temporal lobe seizures impair your ability to respond to others. This type of temporal lobe seizure usually lasts 30 seconds to two minutes. Characteristic signs and symptoms include:  Loss of awareness of surroundings Staring Lip smacking Repeated swallowing or chewing Unusual finger movements, such as picking motions  After a temporal lobe seizure, you may have:  A period of confusion and difficulty speaking Inability to recall what occurred during the seizure Unawareness of having had a seizure Extreme sleepiness  In extreme cases, what starts as a temporal lobe seizure evolves into a generalized tonic-clonic (grand mal) seizure — featuring convulsions and loss of consciousness.   \n",
       "10                                                                                                                                                                                                                                                                                                                                                                                                                                                                                                                                                                                                                                                                                                                                                                                                                                                                                                                                                                                                                                                                                                                                                vomiting,yellowish_skin,abdominal_pain,swelling_of_stomach,distention_of_abdomen,history_of_alcohol_consumption,fluid_overload   \n",
       "11                                                                                                                                                                                                                                                                                                                                                                                                                                                                                                                                                                                                                                                                                                                                                                                                                                                                                                                                                                                                                                                                                                                                          vomiting,fatigue,anxiety,sweating,headache,nausea,excessive_hunger,drying_and_tingling_lips,slurred_speech,irritability,palpitations   \n",
       "12                                                                                                                                                                                                                                                                                                                                                                                                                                                                                                                                                                                                                                                                                                                                                                                                                                                                                                                                                                                                                                                                                                                                           fatigue,mood_swings,weight_loss,restlessness,sweating,diarrhoea,excessive_hunger,muscle_weakness,irritability,abnormal_menstruation   \n",
       "13                                                                                                                                                                                                                                                                                                                                                                                                                                                                                                                                                                                                                                                                                                                                                                                                                                                                                                                                                                                                                                                                                                                                       joint_pain,vomiting,yellowish_skin,dark_urine,nausea,loss_of_appetite,abdominal_pain,diarrhoea,mild_fever,yellowing_of_eyes,muscle_pain   \n",
       "14                                                                                                                                                                                                                                                                                                                                                                                                                                                                                                                                                                                                                                                                                                                                                                                                                                                                                                                                                                                                                                                                                                               skin_rash,chills,joint_pain,vomiting,fatigue,high_fever,headache,nausea,loss_of_appetite,pain_behind_the_eyes,back_pain,malaise,muscle_pain,red_spots_over_body   \n",
       "15                                                                                                                                                                                                                                                                                                                                                                                                                                                                                                                                                                                                                                                                                                                                                                                                                                                                                                                                                                                                                                                                                                                                                                                      itching,vomiting,yellowish_skin,nausea,loss_of_appetite,abdominal_pain,yellowing_of_eyes   \n",
       "16                                                                                                                                                                                                                                                                                                                                                                                                                                                                                                                                           You might develop signs and symptoms of an intracranial hematoma right after a head injury, or they may take weeks or longer to appear. You might seem fine after a head injury. This period is called the lucid interval. Over time, pressure on your brain increases, producing some or all of the following signs and symptoms:  Headache that gets worse Vomiting Drowsiness and progressive loss of consciousness Dizziness Confusion Unequal pupil size Slurred speech Loss of movement (paralysis) on the opposite side of the body from the head injury  As more blood fills your brain or the narrow space between your brain and skull, other signs and symptoms may appear, such as:  Lethargy Seizures Unconsciousness    \n",
       "17                                                                                                                                                                                                                                                                                                                                                                                                                                                                                                                                                                                                                                                                                                                                                                                                                                                                                                                                                                                                                                                                                                                                                                                                 muscle_weakness,stiff_neck,swelling_joints,movement_stiffness,painful_walking   \n",
       "18                                                                                                                                                                                                                                                                                                                                                                                                                                                                                                                                                                                                                                                                                                                                                                                                                                                                                                                                                                                                                                                                                                                                                                                        vomiting,indigestion,loss_of_appetite,abdominal_pain,passage_of_gases,internal_itching   \n",
       "19                                                                                                                                                                                                                                                                                                                                                                                                                                                                                                                                                                                                                                                                                                                                                                                                                                                                                                                                                                                                                                                                                      chills,vomiting,fatigue,weight_loss,cough,high_fever,breathlessness,sweating,loss_of_appetite,mild_fever,yellowing_of_eyes,swelled_lymph_nodes,malaise,phlegm,chest_pain,blood_in_sputum   \n",
       "\n",
       "    label  \n",
       "0     308  \n",
       "1      35  \n",
       "2     798  \n",
       "3     149  \n",
       "4     596  \n",
       "5     785  \n",
       "6     186  \n",
       "7     466  \n",
       "8     700  \n",
       "9     971  \n",
       "10     33  \n",
       "11    504  \n",
       "12    502  \n",
       "13    464  \n",
       "14    275  \n",
       "15    207  \n",
       "16    533  \n",
       "17     72  \n",
       "18    735  \n",
       "19   1019  "
      ]
     },
     "execution_count": 58,
     "metadata": {},
     "output_type": "execute_result"
    }
   ],
   "source": [
    "# This is the dataset we should be using, which allows us to TTS based on our own parameters,\n",
    "# not the developer's original 0.2 split.\n",
    "\n",
    "resultdf = pd.concat([traindf , testdf] , ignore_index = True)\n",
    "\n",
    "print(len(resultdf))\n",
    "resultdf.head(n=20)"
   ]
  },
  {
   "cell_type": "code",
   "execution_count": 74,
   "id": "2157b07f",
   "metadata": {},
   "outputs": [],
   "source": [
    "# We will now write the resultdf to a csv for development use.\n",
    "\n",
    "resultdf.to_csv(\"../datasets/allsymptomsdisease.csv\" , index = False)"
   ]
  },
  {
   "cell_type": "code",
   "execution_count": 57,
   "id": "51e85eb0",
   "metadata": {},
   "outputs": [
    {
     "data": {
      "text/html": [
       "<div>\n",
       "<style scoped>\n",
       "    .dataframe tbody tr th:only-of-type {\n",
       "        vertical-align: middle;\n",
       "    }\n",
       "\n",
       "    .dataframe tbody tr th {\n",
       "        vertical-align: top;\n",
       "    }\n",
       "\n",
       "    .dataframe thead th {\n",
       "        text-align: right;\n",
       "    }\n",
       "</style>\n",
       "<table border=\"1\" class=\"dataframe\">\n",
       "  <thead>\n",
       "    <tr style=\"text-align: right;\">\n",
       "      <th></th>\n",
       "      <th>text</th>\n",
       "      <th>label</th>\n",
       "    </tr>\n",
       "  </thead>\n",
       "  <tbody>\n",
       "    <tr>\n",
       "      <th>717</th>\n",
       "      <td>vomiting,headache,nausea,spinning_movements,loss_of_balance,unsteadiness</td>\n",
       "      <td>0</td>\n",
       "    </tr>\n",
       "    <tr>\n",
       "      <th>6862</th>\n",
       "      <td>vomiting,nausea,spinning_movements,loss_of_balance,unsteadiness</td>\n",
       "      <td>0</td>\n",
       "    </tr>\n",
       "    <tr>\n",
       "      <th>1105</th>\n",
       "      <td>vomiting,headache,spinning_movements,loss_of_balance,unsteadiness</td>\n",
       "      <td>0</td>\n",
       "    </tr>\n",
       "    <tr>\n",
       "      <th>5264</th>\n",
       "      <td>vomiting,headache,nausea,spinning_movements,loss_of_balance,unsteadiness</td>\n",
       "      <td>0</td>\n",
       "    </tr>\n",
       "    <tr>\n",
       "      <th>5768</th>\n",
       "      <td>vomiting,headache,nausea,spinning_movements,loss_of_balance,unsteadiness</td>\n",
       "      <td>0</td>\n",
       "    </tr>\n",
       "    <tr>\n",
       "      <th>...</th>\n",
       "      <td>...</td>\n",
       "      <td>...</td>\n",
       "    </tr>\n",
       "    <tr>\n",
       "      <th>2806</th>\n",
       "      <td>Babies with XLA generally appear healthy for the first few months because they're protected by the antibodies they got from their mothers before birth. When these antibodies clear from their systems, the babies begin to develop often severe, recurrent bacterial infections — such as of the ears, lungs, sinuses and skin — that can be life-threating. XLA Male infants born with XLA have: XLA  Very small tonsils Small or no lymph nodes  Causes            X-linked inheritance pattern with carrier mother       Open pop-up dialog box          Close    X-linked inheritance pattern with carrier mother   X-linked inheritance pattern with carrier mother Women can pass down X-linked recessive disorders such as X-linked agammaglobulinemia. A woman who is a carrier of an X-linked recessive disorder has a 25% chance of having an unaffected son, a 25% chance of having an affected son, a 25% chance of having an unaffected daughter and a 25% chance of having a daughter who also is a carrier.               X-linked inheritance pattern with carrier mother       Open pop-up dialog box           X-linked inheritance pattern with carrier mother       Open pop-up dialog box  Open pop-up dialog box       Close    X-linked inheritance pattern with carrier mother   X-linked inheritance pattern with carrier mother Women can pass down X-linked recessive disorders such as X-linked agammaglobulinemia. A woman who is a carrier of an X-linked recessive disorder has a 25% chance of having an unaffected son, a 25% chance of having an affected son, a 25% chance of having an unaffected daughter and a 25% chance of having a daughter who also is a carrier.          Close    X-linked inheritance pattern with carrier mother   X-linked inheritance pattern with carrier mother Women can pass down X-linked recessive disorders such as X-linked agammaglobulinemia. A woman who is a carrier of an X-linked recessive disorder has a 25% chance of having an unaffected son, a 25% chance of having an affected son, a 25% chance of having an unaffected daughter and a 25% chance of having a daughter who also is a carrier.        Close    X-linked inheritance pattern with carrier mother   X-linked inheritance pattern with carrier mother Women can pass down X-linked recessive disorders such as X-linked agammaglobulinemia. A woman who is a carrier of an X-linked recessive disorder has a 25% chance of having an unaffected son, a 25% chance of having an affected son, a 25% chance of having an unaffected daughter and a 25% chance of having a daughter who also is a carrier.     Close    Close  Close X-linked inheritance pattern with carrier mother   X-linked inheritance pattern with carrier mother Women can pass down X-linked recessive disorders such as X-linked agammaglobulinemia. A woman who is a carrier of an X-linked recessive disorder has a 25% chance of having an unaffected son, a 25% chance of having an affected son, a 25% chance of having an unaffected daughter and a 25% chance of having a daughter who also is a carrier.  X-linked inheritance pattern with carrier mother Women can pass down X-linked recessive disorders such as X-linked agammaglobulinemia. A woman who is a carrier of an X-linked recessive disorder has a 25% chance of having an unaffected son, a 25% chance of having an affected son, a 25% chance of having an unaffected daughter and a 25% chance of having a daughter who also is a carrier. Women can pass down X-linked recessive disorders such as X-linked agammaglobulinemia. A woman who is a carrier of an X-linked recessive disorder has a 25% chance of having an unaffected son, a 25% chance of having an affected son, a 25% chance of having an unaffected daughter and a 25% chance of having a daughter who also is a carrier. X-linked agammaglobulinemia is caused by a genetic mutation. People with the condition can't produce antibodies that fight infection. About 40% of people with the condition have a family member who has it. Complications People with XLA can live relatively normal lives and should be encouraged to participate in regular activities for their ages. However, recurrent infections related to XLA will likely require careful attention and aggressive treatment. They can cause organ damage and be life-threatening. XLA XLA Possible complications include:  Chronic lung disease Increased risk of certain cancers Infectious arthritis Increased risk of central nervous system infections from live vaccines                   By Mayo Clinic Staff By Mayo Clinic Staff  X-linked agammaglobulinemia care at Mayo Clinic</td>\n",
       "      <td>1077</td>\n",
       "    </tr>\n",
       "    <tr>\n",
       "      <th>5491</th>\n",
       "      <td>Yeast infection symptoms can range from mild to moderate, and include:  Itching and irritation in the vagina and vulva A burning sensation, especially during intercourse or while urinating Redness and swelling of the vulva Vaginal pain and soreness Vaginal rash Thick, white, odor-free vaginal discharge with a cottage cheese appearance Watery vaginal discharge  Complicated yeast infection You might have a complicated yeast infection if:  You have severe signs and symptoms, such as extensive redness, swelling and itching that leads to tears, cracks or sores You have four or more yeast infections in a year Your infection is caused by a less typical type of fungus You're pregnant You have uncontrolled diabetes Your immune system is weakened because of certain medications or conditions such as HIV infection</td>\n",
       "      <td>1078</td>\n",
       "    </tr>\n",
       "    <tr>\n",
       "      <th>1987</th>\n",
       "      <td>The most common symptom associated with the yips is an involuntary muscle jerk, although some people experience tremors, twitches, spasms or freezing. Causes In some people, the yips are a type of focal dystonia, a condition that causes involuntary muscle contractions during a specific task. It's most likely related to overuse of a certain set of muscles, similar to writer's cramp. Anxiety worsens the effect. Some athletes become so anxious and self-focused — overthinking to the point of distraction — that their ability to execute a skill, such as putting, is impaired. \"Choking\" is an extreme form of performance anxiety that may compromise a golfer's or any athlete's game. Risk factors The yips tend to be associated with:  Older age More experience playing golf Tournament play                   By Mayo Clinic Staff By Mayo Clinic Staff Request an appointment Request an appointment   Diagnosis &amp; treatment Diagnosis &amp; treatment Diagnosis &amp; treatment       March 23, 2022   Print Print  Share on: FacebookTwitter Facebook Twitter Show references Conidi F. Some unusual sports-related neurologic conditions. Continuum. 2014;20:1645. Dhungana S, et al. Yips and other movement disorders in golfers. Movement Disorders. 2013;28:576. Berstein CJ, et al. Behavioural interventions for people living with adult-onset primary dystonia: A systematic review. BMC Neurology. 2016;16:1. https://bmcneurol.biomedcentral.com/articles/10.1186/s12883-016-0562-y. Accessed Feb. 2, 2018.  Show references  Conidi F. Some unusual sports-related neurologic conditions. Continuum. 2014;20:1645. Dhungana S, et al. Yips and other movement disorders in golfers. Movement Disorders. 2013;28:576. Berstein CJ, et al. Behavioural interventions for people living with adult-onset primary dystonia: A systematic review. BMC Neurology. 2016;16:1. https://bmcneurol.biomedcentral.com/articles/10.1186/s12883-016-0562-y. Accessed Feb. 2, 2018.   Conidi F. Some unusual sports-related neurologic conditions. Continuum. 2014;20:1645. Dhungana S, et al. Yips and other movement disorders in golfers. Movement Disorders. 2013;28:576. Berstein CJ, et al. Behavioural interventions for people living with adult-onset primary dystonia: A systematic review. BMC Neurology. 2016;16:1. https://bmcneurol.biomedcentral.com/articles/10.1186/s12883-016-0562-y. Accessed Feb. 2, 2018.  Conidi F. Some unusual sports-related neurologic conditions. Continuum. 2014;20:1645. Dhungana S, et al. Yips and other movement disorders in golfers. Movement Disorders. 2013;28:576. Berstein CJ, et al. Behavioural interventions for people living with adult-onset primary dystonia: A systematic review. BMC Neurology. 2016;16:1. https://bmcneurol.biomedcentral.com/articles/10.1186/s12883-016-0562-y. Accessed Feb. 2, 2018.  Related  Products &amp; Services   Book: Mayo Clinic Family Health Book, 5th Edition   Newsletter: Mayo Clinic Health Letter — Digital Edition   Show more products and services from Mayo Clinic   Related  Products &amp; Services   Book: Mayo Clinic Family Health Book, 5th Edition   Newsletter: Mayo Clinic Health Letter — Digital Edition   Show more products and services from Mayo Clinic  Products &amp; Services   Book: Mayo Clinic Family Health Book, 5th Edition   Newsletter: Mayo Clinic Health Letter — Digital Edition   Show more products and services from Mayo Clinic  YipsSymptoms &amp; causesDiagnosis &amp; treatment  Yips Symptoms &amp; causesDiagnosis &amp; treatment</td>\n",
       "      <td>1079</td>\n",
       "    </tr>\n",
       "    <tr>\n",
       "      <th>2325</th>\n",
       "      <td>As many as 4 out of 5 people infected with the Zika virus have no signs or symptoms. When symptoms do occur, they usually begin two to 14 days after a person is bitten by an infected mosquito. Symptoms usually last about a week, and most people recover fully. Signs and symptoms of the Zika virus most commonly include:  Mild fever Rash Joint pain, particularly in the hands or feet Red eyes (conjunctivitis)  Other signs and symptoms may include:  Muscle pain Headache Eye pain Fatigue or a general feeling of discomfort Abdominal pain</td>\n",
       "      <td>1080</td>\n",
       "    </tr>\n",
       "    <tr>\n",
       "      <th>1344</th>\n",
       "      <td>Symptoms of Zollinger-Ellison syndrome may include:  Stomach pain. Diarrhea. Burning, aching or discomfort in your upper abdomen. Acid reflux and heartburn. Burping. Nausea and vomiting. Bleeding in your digestive tract. Losing weight without trying. Loss of appetite.</td>\n",
       "      <td>1081</td>\n",
       "    </tr>\n",
       "  </tbody>\n",
       "</table>\n",
       "<p>7043 rows × 2 columns</p>\n",
       "</div>"
      ],
      "text/plain": [
       "                                                                                                                                                                                                                                                                                                                                                                                                                                                                                                                                                                                                                                                                                                                                                                                                                                                                                                                                                                                                                                                                                                                                                                                                                                                                                                                                                                                                                                                                                                                                                                                                                                                                                                                                                                                                                                                                                                                                                                                                                                                                                                                                                                                                                                                                                                                                                                                                                                                                                                                                                                                                                                                                                                                                                                                                                                                                                                                                                                                                                                                                                                                                                                                                                                                                                                                                                                                                                                                                                                                                                                                                                                                                                                                                                                                                                                                                                                                                                                                                                                                                                                                                                                                                                                                                                                                                                                                                                                                                                                                                                                                                                                                                                                                                         text  \\\n",
       "717                                                                                                                                                                                                                                                                                                                                                                                                                                                                                                                                                                                                                                                                                                                                                                                                                                                                                                                                                                                                                                                                                                                                                                                                                                                                                                                                                                                                                                                                                                                                                                                                                                                                                                                                                                                                                                                                                                                                                                                                                                                                                                                                                                                                                                                                                                                                                                                                                                                                                                                                                                                                                                                                                                                                                                                                                                                                                                                                                                                                                                                                                                                                                                                                                                                                                                                                                                                                                                                                                                                                                                                                                                                                                                                                                                                                                                                                                                                                                                                                                                                                                                                                                                                                                                                                                                                                                                                                                                                                                                                                                                                                                                                                  vomiting,headache,nausea,spinning_movements,loss_of_balance,unsteadiness   \n",
       "6862                                                                                                                                                                                                                                                                                                                                                                                                                                                                                                                                                                                                                                                                                                                                                                                                                                                                                                                                                                                                                                                                                                                                                                                                                                                                                                                                                                                                                                                                                                                                                                                                                                                                                                                                                                                                                                                                                                                                                                                                                                                                                                                                                                                                                                                                                                                                                                                                                                                                                                                                                                                                                                                                                                                                                                                                                                                                                                                                                                                                                                                                                                                                                                                                                                                                                                                                                                                                                                                                                                                                                                                                                                                                                                                                                                                                                                                                                                                                                                                                                                                                                                                                                                                                                                                                                                                                                                                                                                                                                                                                                                                                                                                                          vomiting,nausea,spinning_movements,loss_of_balance,unsteadiness   \n",
       "1105                                                                                                                                                                                                                                                                                                                                                                                                                                                                                                                                                                                                                                                                                                                                                                                                                                                                                                                                                                                                                                                                                                                                                                                                                                                                                                                                                                                                                                                                                                                                                                                                                                                                                                                                                                                                                                                                                                                                                                                                                                                                                                                                                                                                                                                                                                                                                                                                                                                                                                                                                                                                                                                                                                                                                                                                                                                                                                                                                                                                                                                                                                                                                                                                                                                                                                                                                                                                                                                                                                                                                                                                                                                                                                                                                                                                                                                                                                                                                                                                                                                                                                                                                                                                                                                                                                                                                                                                                                                                                                                                                                                                                                                                        vomiting,headache,spinning_movements,loss_of_balance,unsteadiness   \n",
       "5264                                                                                                                                                                                                                                                                                                                                                                                                                                                                                                                                                                                                                                                                                                                                                                                                                                                                                                                                                                                                                                                                                                                                                                                                                                                                                                                                                                                                                                                                                                                                                                                                                                                                                                                                                                                                                                                                                                                                                                                                                                                                                                                                                                                                                                                                                                                                                                                                                                                                                                                                                                                                                                                                                                                                                                                                                                                                                                                                                                                                                                                                                                                                                                                                                                                                                                                                                                                                                                                                                                                                                                                                                                                                                                                                                                                                                                                                                                                                                                                                                                                                                                                                                                                                                                                                                                                                                                                                                                                                                                                                                                                                                                                                 vomiting,headache,nausea,spinning_movements,loss_of_balance,unsteadiness   \n",
       "5768                                                                                                                                                                                                                                                                                                                                                                                                                                                                                                                                                                                                                                                                                                                                                                                                                                                                                                                                                                                                                                                                                                                                                                                                                                                                                                                                                                                                                                                                                                                                                                                                                                                                                                                                                                                                                                                                                                                                                                                                                                                                                                                                                                                                                                                                                                                                                                                                                                                                                                                                                                                                                                                                                                                                                                                                                                                                                                                                                                                                                                                                                                                                                                                                                                                                                                                                                                                                                                                                                                                                                                                                                                                                                                                                                                                                                                                                                                                                                                                                                                                                                                                                                                                                                                                                                                                                                                                                                                                                                                                                                                                                                                                                 vomiting,headache,nausea,spinning_movements,loss_of_balance,unsteadiness   \n",
       "...                                                                                                                                                                                                                                                                                                                                                                                                                                                                                                                                                                                                                                                                                                                                                                                                                                                                                                                                                                                                                                                                                                                                                                                                                                                                                                                                                                                                                                                                                                                                                                                                                                                                                                                                                                                                                                                                                                                                                                                                                                                                                                                                                                                                                                                                                                                                                                                                                                                                                                                                                                                                                                                                                                                                                                                                                                                                                                                                                                                                                                                                                                                                                                                                                                                                                                                                                                                                                                                                                                                                                                                                                                                                                                                                                                                                                                                                                                                                                                                                                                                                                                                                                                                                                                                                                                                                                                                                                                                                                                                                                                                                                                                                                                                                       ...   \n",
       "2806  Babies with XLA generally appear healthy for the first few months because they're protected by the antibodies they got from their mothers before birth. When these antibodies clear from their systems, the babies begin to develop often severe, recurrent bacterial infections — such as of the ears, lungs, sinuses and skin — that can be life-threating. XLA Male infants born with XLA have: XLA  Very small tonsils Small or no lymph nodes  Causes            X-linked inheritance pattern with carrier mother       Open pop-up dialog box          Close    X-linked inheritance pattern with carrier mother   X-linked inheritance pattern with carrier mother Women can pass down X-linked recessive disorders such as X-linked agammaglobulinemia. A woman who is a carrier of an X-linked recessive disorder has a 25% chance of having an unaffected son, a 25% chance of having an affected son, a 25% chance of having an unaffected daughter and a 25% chance of having a daughter who also is a carrier.               X-linked inheritance pattern with carrier mother       Open pop-up dialog box           X-linked inheritance pattern with carrier mother       Open pop-up dialog box  Open pop-up dialog box       Close    X-linked inheritance pattern with carrier mother   X-linked inheritance pattern with carrier mother Women can pass down X-linked recessive disorders such as X-linked agammaglobulinemia. A woman who is a carrier of an X-linked recessive disorder has a 25% chance of having an unaffected son, a 25% chance of having an affected son, a 25% chance of having an unaffected daughter and a 25% chance of having a daughter who also is a carrier.          Close    X-linked inheritance pattern with carrier mother   X-linked inheritance pattern with carrier mother Women can pass down X-linked recessive disorders such as X-linked agammaglobulinemia. A woman who is a carrier of an X-linked recessive disorder has a 25% chance of having an unaffected son, a 25% chance of having an affected son, a 25% chance of having an unaffected daughter and a 25% chance of having a daughter who also is a carrier.        Close    X-linked inheritance pattern with carrier mother   X-linked inheritance pattern with carrier mother Women can pass down X-linked recessive disorders such as X-linked agammaglobulinemia. A woman who is a carrier of an X-linked recessive disorder has a 25% chance of having an unaffected son, a 25% chance of having an affected son, a 25% chance of having an unaffected daughter and a 25% chance of having a daughter who also is a carrier.     Close    Close  Close X-linked inheritance pattern with carrier mother   X-linked inheritance pattern with carrier mother Women can pass down X-linked recessive disorders such as X-linked agammaglobulinemia. A woman who is a carrier of an X-linked recessive disorder has a 25% chance of having an unaffected son, a 25% chance of having an affected son, a 25% chance of having an unaffected daughter and a 25% chance of having a daughter who also is a carrier.  X-linked inheritance pattern with carrier mother Women can pass down X-linked recessive disorders such as X-linked agammaglobulinemia. A woman who is a carrier of an X-linked recessive disorder has a 25% chance of having an unaffected son, a 25% chance of having an affected son, a 25% chance of having an unaffected daughter and a 25% chance of having a daughter who also is a carrier. Women can pass down X-linked recessive disorders such as X-linked agammaglobulinemia. A woman who is a carrier of an X-linked recessive disorder has a 25% chance of having an unaffected son, a 25% chance of having an affected son, a 25% chance of having an unaffected daughter and a 25% chance of having a daughter who also is a carrier. X-linked agammaglobulinemia is caused by a genetic mutation. People with the condition can't produce antibodies that fight infection. About 40% of people with the condition have a family member who has it. Complications People with XLA can live relatively normal lives and should be encouraged to participate in regular activities for their ages. However, recurrent infections related to XLA will likely require careful attention and aggressive treatment. They can cause organ damage and be life-threatening. XLA XLA Possible complications include:  Chronic lung disease Increased risk of certain cancers Infectious arthritis Increased risk of central nervous system infections from live vaccines                   By Mayo Clinic Staff By Mayo Clinic Staff  X-linked agammaglobulinemia care at Mayo Clinic    \n",
       "5491                                                                                                                                                                                                                                                                                                                                                                                                                                                                                                                                                                                                                                                                                                                                                                                                                                                                                                                                                                                                                                                                                                                                                                                                                                                                                                                                                                                                                                                                                                                                                                                                                                                                                                                                                                                                                                                                                                                                                                                                                                                                                                                                                                                                                                                                                                                                                                                                                                                                                                                                                                                                                                                                                                                                                                                                                                                                                                                                                                                                                                                                                                                                                                                                                                                                                                                                                                                                                                                                                                                                                                                                                                                                                                                                                                                                                                                                                           Yeast infection symptoms can range from mild to moderate, and include:  Itching and irritation in the vagina and vulva A burning sensation, especially during intercourse or while urinating Redness and swelling of the vulva Vaginal pain and soreness Vaginal rash Thick, white, odor-free vaginal discharge with a cottage cheese appearance Watery vaginal discharge  Complicated yeast infection You might have a complicated yeast infection if:  You have severe signs and symptoms, such as extensive redness, swelling and itching that leads to tears, cracks or sores You have four or more yeast infections in a year Your infection is caused by a less typical type of fungus You're pregnant You have uncontrolled diabetes Your immune system is weakened because of certain medications or conditions such as HIV infection    \n",
       "1987                                                                                                                                                                                                                                                                                                                                                                                                                                                                                                                                                                                                                                                                                                                                                                                                                                                                                                                                                                                                                                                                                                                                                                  The most common symptom associated with the yips is an involuntary muscle jerk, although some people experience tremors, twitches, spasms or freezing. Causes In some people, the yips are a type of focal dystonia, a condition that causes involuntary muscle contractions during a specific task. It's most likely related to overuse of a certain set of muscles, similar to writer's cramp. Anxiety worsens the effect. Some athletes become so anxious and self-focused — overthinking to the point of distraction — that their ability to execute a skill, such as putting, is impaired. \"Choking\" is an extreme form of performance anxiety that may compromise a golfer's or any athlete's game. Risk factors The yips tend to be associated with:  Older age More experience playing golf Tournament play                   By Mayo Clinic Staff By Mayo Clinic Staff Request an appointment Request an appointment   Diagnosis & treatment Diagnosis & treatment Diagnosis & treatment       March 23, 2022   Print Print  Share on: FacebookTwitter Facebook Twitter Show references Conidi F. Some unusual sports-related neurologic conditions. Continuum. 2014;20:1645. Dhungana S, et al. Yips and other movement disorders in golfers. Movement Disorders. 2013;28:576. Berstein CJ, et al. Behavioural interventions for people living with adult-onset primary dystonia: A systematic review. BMC Neurology. 2016;16:1. https://bmcneurol.biomedcentral.com/articles/10.1186/s12883-016-0562-y. Accessed Feb. 2, 2018.  Show references  Conidi F. Some unusual sports-related neurologic conditions. Continuum. 2014;20:1645. Dhungana S, et al. Yips and other movement disorders in golfers. Movement Disorders. 2013;28:576. Berstein CJ, et al. Behavioural interventions for people living with adult-onset primary dystonia: A systematic review. BMC Neurology. 2016;16:1. https://bmcneurol.biomedcentral.com/articles/10.1186/s12883-016-0562-y. Accessed Feb. 2, 2018.   Conidi F. Some unusual sports-related neurologic conditions. Continuum. 2014;20:1645. Dhungana S, et al. Yips and other movement disorders in golfers. Movement Disorders. 2013;28:576. Berstein CJ, et al. Behavioural interventions for people living with adult-onset primary dystonia: A systematic review. BMC Neurology. 2016;16:1. https://bmcneurol.biomedcentral.com/articles/10.1186/s12883-016-0562-y. Accessed Feb. 2, 2018.  Conidi F. Some unusual sports-related neurologic conditions. Continuum. 2014;20:1645. Dhungana S, et al. Yips and other movement disorders in golfers. Movement Disorders. 2013;28:576. Berstein CJ, et al. Behavioural interventions for people living with adult-onset primary dystonia: A systematic review. BMC Neurology. 2016;16:1. https://bmcneurol.biomedcentral.com/articles/10.1186/s12883-016-0562-y. Accessed Feb. 2, 2018.  Related  Products & Services   Book: Mayo Clinic Family Health Book, 5th Edition   Newsletter: Mayo Clinic Health Letter — Digital Edition   Show more products and services from Mayo Clinic   Related  Products & Services   Book: Mayo Clinic Family Health Book, 5th Edition   Newsletter: Mayo Clinic Health Letter — Digital Edition   Show more products and services from Mayo Clinic  Products & Services   Book: Mayo Clinic Family Health Book, 5th Edition   Newsletter: Mayo Clinic Health Letter — Digital Edition   Show more products and services from Mayo Clinic  YipsSymptoms & causesDiagnosis & treatment  Yips Symptoms & causesDiagnosis & treatment   \n",
       "2325                                                                                                                                                                                                                                                                                                                                                                                                                                                                                                                                                                                                                                                                                                                                                                                                                                                                                                                                                                                                                                                                                                                                                                                                                                                                                                                                                                                                                                                                                                                                                                                                                                                                                                                                                                                                                                                                                                                                                                                                                                                                                                                                                                                                                                                                                                                                                                                                                                                                                                                                                                                                                                                                                                                                                                                                                                                                                                                                                                                                                                                                                                                                                                                                                                                                                                                                                                                                                                                                                                                                                                                                                                                                                                                                                                                                                                                                                                                                                                                                                                                                                                                                                                                As many as 4 out of 5 people infected with the Zika virus have no signs or symptoms. When symptoms do occur, they usually begin two to 14 days after a person is bitten by an infected mosquito. Symptoms usually last about a week, and most people recover fully. Signs and symptoms of the Zika virus most commonly include:  Mild fever Rash Joint pain, particularly in the hands or feet Red eyes (conjunctivitis)  Other signs and symptoms may include:  Muscle pain Headache Eye pain Fatigue or a general feeling of discomfort Abdominal pain    \n",
       "1344                                                                                                                                                                                                                                                                                                                                                                                                                                                                                                                                                                                                                                                                                                                                                                                                                                                                                                                                                                                                                                                                                                                                                                                                                                                                                                                                                                                                                                                                                                                                                                                                                                                                                                                                                                                                                                                                                                                                                                                                                                                                                                                                                                                                                                                                                                                                                                                                                                                                                                                                                                                                                                                                                                                                                                                                                                                                                                                                                                                                                                                                                                                                                                                                                                                                                                                                                                                                                                                                                                                                                                                                                                                                                                                                                                                                                                                                                                                                                                                                                                                                                                                                                                                                                                                                                                                                                                                                                                                            Symptoms of Zollinger-Ellison syndrome may include:  Stomach pain. Diarrhea. Burning, aching or discomfort in your upper abdomen. Acid reflux and heartburn. Burping. Nausea and vomiting. Bleeding in your digestive tract. Losing weight without trying. Loss of appetite.    \n",
       "\n",
       "      label  \n",
       "717       0  \n",
       "6862      0  \n",
       "1105      0  \n",
       "5264      0  \n",
       "5768      0  \n",
       "...     ...  \n",
       "2806   1077  \n",
       "5491   1078  \n",
       "1987   1079  \n",
       "2325   1080  \n",
       "1344   1081  \n",
       "\n",
       "[7043 rows x 2 columns]"
      ]
     },
     "execution_count": 57,
     "metadata": {},
     "output_type": "execute_result"
    }
   ],
   "source": [
    "# Now we're going to look at the data to find inconsistencies and oncongruencies between the\n",
    "# text and the label number.\n",
    "\n",
    "resultdf.sort_values(by = 'label',ascending = True)"
   ]
  },
  {
   "cell_type": "code",
   "execution_count": 62,
   "id": "5b73aff2",
   "metadata": {},
   "outputs": [],
   "source": [
    "import pandas as pd\n",
    "import numpy as np\n",
    "from sklearn.model_selection import train_test_split\n",
    "from sklearn.preprocessing import StandardScaler\n",
    "from sklearn.feature_extraction.text import TfidfVectorizer\n",
    "import tensorflow as tf\n",
    "from tensorflow import keras\n",
    "from tensorflow.keras import layers\n",
    "import keras_tuner as kt\n"
   ]
  },
  {
   "cell_type": "code",
   "execution_count": 75,
   "id": "e1b401a7",
   "metadata": {},
   "outputs": [
    {
     "name": "stdout",
     "output_type": "stream",
     "text": [
      "7043\n"
     ]
    }
   ],
   "source": [
    "mydf = pd.read_csv(\"../datasets/allsymptomsdisease.csv\")\n",
    "mydf = mydf.dropna()\n",
    "mydf['text'] = mydf['text'].astype(str)\n",
    "mydf['label'] = pd.to_numeric(mydf['label'], errors='coerce')\n",
    "mydf = mydf.dropna(subset=['label'])\n",
    "print(len(mydf))\n",
    "\n",
    "# TF-IDF vectorization\n",
    "vectorizer = TfidfVectorizer(max_features=1000)\n",
    "X = vectorizer.fit_transform(mydf['text']).toarray()\n",
    "y = mydf['label'].values\n"
   ]
  },
  {
   "cell_type": "code",
   "execution_count": 65,
   "id": "e0f9a7aa",
   "metadata": {},
   "outputs": [],
   "source": [
    "# Default split, will be tuned\n",
    "X_train, X_val, y_train, y_val = train_test_split(X, y, test_size=0.2, random_state=42)\n"
   ]
  },
  {
   "cell_type": "code",
   "execution_count": 66,
   "id": "68e1eeb0",
   "metadata": {},
   "outputs": [],
   "source": [
    "def build_model(hp):\n",
    "    model = keras.Sequential()\n",
    "    \n",
    "    # Input layer\n",
    "    model.add(layers.Input(shape=(X_train.shape[1],)))\n",
    "    \n",
    "    # Hidden layers\n",
    "    for i in range(hp.Int('num_layers', 1, 3)):\n",
    "        model.add(layers.Dense(\n",
    "            units=hp.Int(f'units_{i}', min_value=64, max_value=512, step=64),\n",
    "            activation='relu'\n",
    "        ))\n",
    "        model.add(layers.Dropout(rate=hp.Float(f'dropout_{i}', 0.0, 0.5, step=0.1)))\n",
    "    \n",
    "    # Output layer for regression\n",
    "    model.add(layers.Dense(1))\n",
    "    \n",
    "    # Optimizer\n",
    "    optimizer = hp.Choice('optimizer', ['adam', 'rmsprop', 'sgd'])\n",
    "    \n",
    "    model.compile(\n",
    "        optimizer=optimizer,\n",
    "        loss='mse',\n",
    "        metrics=['mae', tf.keras.metrics.RootMeanSquaredError()]\n",
    "    )\n",
    "    return model\n"
   ]
  },
  {
   "cell_type": "code",
   "execution_count": 67,
   "id": "0f0f87fc",
   "metadata": {},
   "outputs": [
    {
     "name": "stdout",
     "output_type": "stream",
     "text": [
      "Trial 20 Complete [00h 00m 20s]\n",
      "val_mae: nan\n",
      "\n",
      "Best val_mae So Far: 74.64724731445312\n",
      "Total elapsed time: 00h 07m 16s\n"
     ]
    },
    {
     "name": "stderr",
     "output_type": "stream",
     "text": [
      "c:\\Users\\conno\\anaconda3\\envs\\dev\\lib\\site-packages\\keras\\src\\saving\\saving_lib.py:757: UserWarning: Skipping variable loading for optimizer 'rmsprop', because it has 2 variables whereas the saved optimizer has 6 variables. \n",
      "  saveable.load_own_variables(weights_store.get(inner_path))\n"
     ]
    }
   ],
   "source": [
    "tuner = kt.RandomSearch(\n",
    "    build_model,\n",
    "    objective='val_mae',\n",
    "    max_trials=20,\n",
    "    executions_per_trial=1,\n",
    "    directory='kt_dir',\n",
    "    project_name='severity_prediction'\n",
    ")\n",
    "\n",
    "tuner.search(X_train, y_train,\n",
    "             epochs=30,\n",
    "             validation_data=(X_val, y_val),\n",
    "             batch_size=32,\n",
    "             verbose=2)\n",
    "\n",
    "# Get best model\n",
    "best_model = tuner.get_best_models(1)[0]\n"
   ]
  },
  {
   "cell_type": "code",
   "execution_count": 68,
   "id": "48cbad8e",
   "metadata": {},
   "outputs": [
    {
     "name": "stdout",
     "output_type": "stream",
     "text": [
      "\u001b[1m45/45\u001b[0m \u001b[32m━━━━━━━━━━━━━━━━━━━━\u001b[0m\u001b[37m\u001b[0m \u001b[1m0s\u001b[0m 2ms/step - loss: 20727.3906 - mae: 72.0814 - root_mean_squared_error: 143.5450\n",
      "MAE: 74.65 | RMSE: 146.62\n"
     ]
    }
   ],
   "source": [
    "loss, mae, rmse = best_model.evaluate(X_val, y_val)\n",
    "print(f\"MAE: {mae:.2f} | RMSE: {rmse:.2f}\")\n"
   ]
  },
  {
   "cell_type": "code",
   "execution_count": 69,
   "id": "4d974edb",
   "metadata": {},
   "outputs": [
    {
     "name": "stdout",
     "output_type": "stream",
     "text": [
      "\u001b[1m45/45\u001b[0m \u001b[32m━━━━━━━━━━━━━━━━━━━━\u001b[0m\u001b[37m\u001b[0m \u001b[1m0s\u001b[0m 3ms/step\n",
      "R² Score: 0.7530194520950317\n"
     ]
    }
   ],
   "source": [
    "from sklearn.metrics import r2_score\n",
    "y_pred = best_model.predict(X_val).flatten()\n",
    "print(\"R² Score:\", r2_score(y_val, y_pred))\n"
   ]
  },
  {
   "cell_type": "code",
   "execution_count": 98,
   "id": "b1d5ff3d",
   "metadata": {},
   "outputs": [],
   "source": [
    "def binner(scores):\n",
    "    output = []\n",
    "    for score in scores:\n",
    "        if score > 900:\n",
    "            output.append(1)\n",
    "        elif score > 650:\n",
    "            output.append(2)\n",
    "        elif score > 400:\n",
    "            output.append(3)\n",
    "        elif score > 200:\n",
    "            output.append(4)\n",
    "        else:\n",
    "            output.append(5)\n",
    "    return output"
   ]
  },
  {
   "cell_type": "code",
   "execution_count": 116,
   "id": "41a34ccd",
   "metadata": {},
   "outputs": [
    {
     "name": "stdout",
     "output_type": "stream",
     "text": [
      "7043\n"
     ]
    }
   ],
   "source": [
    "import numpy as np\n",
    "mydf2 = pd.read_csv(\"../datasets/allsymptomsdisease.csv\")\n",
    "mydf2 = mydf2.dropna()\n",
    "mydf2['text'] = mydf2['text'].astype(str)\n",
    "mydf2 = mydf2.dropna(subset=['label'])\n",
    "print(len(mydf2))\n",
    "\n",
    "mydf2['label'] = binner(mydf2['label'].tolist())\n",
    "\n",
    "# TF-IDF vectorization\n",
    "vectorizer = TfidfVectorizer(max_features=1000)\n",
    "X = vectorizer.fit_transform(mydf2['text']).toarray()\n",
    "y = mydf2['label'].values - 1\n",
    "\n"
   ]
  },
  {
   "cell_type": "code",
   "execution_count": 118,
   "id": "f2513a0a",
   "metadata": {},
   "outputs": [],
   "source": [
    "X_train, X_val, y_train, y_val = train_test_split(X, y, test_size=0.2, stratify=y, random_state=42)\n"
   ]
  },
  {
   "cell_type": "code",
   "execution_count": 119,
   "id": "261c2c44",
   "metadata": {},
   "outputs": [],
   "source": [
    "def build_model2(hp):\n",
    "    model = keras.Sequential()\n",
    "    model.add(layers.Input(shape=(X_train.shape[1],)))\n",
    "\n",
    "    for i in range(hp.Int('num_layers', 1, 3)):\n",
    "        model.add(layers.Dense(\n",
    "            units=hp.Int(f'units_{i}', min_value=64, max_value=512, step=64),\n",
    "            activation='relu'\n",
    "        ))\n",
    "        model.add(layers.Dropout(rate=hp.Float(f'dropout_{i}', 0.0, 0.5, step=0.1)))\n",
    "\n",
    "    model.add(layers.Dense(5, activation='softmax'))\n",
    "\n",
    "    model.compile(\n",
    "        optimizer=hp.Choice('optimizer', ['adam', 'rmsprop', 'sgd']),\n",
    "        loss='sparse_categorical_crossentropy',\n",
    "        metrics=['accuracy']\n",
    "    )\n",
    "\n",
    "    return model\n"
   ]
  },
  {
   "cell_type": "code",
   "execution_count": 120,
   "id": "f8f1f747",
   "metadata": {},
   "outputs": [
    {
     "name": "stdout",
     "output_type": "stream",
     "text": [
      "Trial 8 Complete [00h 00m 29s]\n",
      "val_accuracy: 0.863733172416687\n",
      "\n",
      "Best val_accuracy So Far: 1.0\n",
      "Total elapsed time: 00h 17m 36s\n",
      "\n",
      "Search: Running Trial #9\n",
      "\n",
      "Value             |Best Value So Far |Hyperparameter\n",
      "2                 |1                 |num_layers\n",
      "384               |192               |units_0\n",
      "0.3               |0.2               |dropout_0\n",
      "rmsprop           |rmsprop           |optimizer\n",
      "384               |None              |units_1\n",
      "0.3               |None              |dropout_1\n",
      "192               |None              |units_2\n",
      "0.4               |None              |dropout_2\n",
      "\n",
      "Epoch 1/30\n",
      "177/177 - 2s - 9ms/step - accuracy: 0.7520 - loss: 0.6535 - val_accuracy: 0.8410 - val_loss: 0.3717\n",
      "Epoch 2/30\n",
      "177/177 - 1s - 5ms/step - accuracy: 0.8818 - loss: 0.3010 - val_accuracy: 0.8481 - val_loss: 0.3550\n",
      "Epoch 3/30\n",
      "177/177 - 1s - 5ms/step - accuracy: 0.9178 - loss: 0.2211 - val_accuracy: 0.8488 - val_loss: 0.3781\n",
      "Epoch 4/30\n",
      "177/177 - 1s - 5ms/step - accuracy: 0.9473 - loss: 0.1589 - val_accuracy: 0.8573 - val_loss: 0.4222\n",
      "Epoch 5/30\n",
      "177/177 - 1s - 5ms/step - accuracy: 0.9647 - loss: 0.1093 - val_accuracy: 0.8581 - val_loss: 0.4679\n",
      "Epoch 6/30\n",
      "177/177 - 1s - 6ms/step - accuracy: 0.9759 - loss: 0.0744 - val_accuracy: 0.8538 - val_loss: 0.5201\n",
      "Epoch 7/30\n",
      "177/177 - 1s - 6ms/step - accuracy: 0.9878 - loss: 0.0476 - val_accuracy: 0.8573 - val_loss: 0.5581\n",
      "Epoch 8/30\n",
      "177/177 - 1s - 5ms/step - accuracy: 0.9922 - loss: 0.0322 - val_accuracy: 0.8581 - val_loss: 0.6148\n",
      "Epoch 9/30\n",
      "177/177 - 1s - 5ms/step - accuracy: 0.9950 - loss: 0.0190 - val_accuracy: 0.8573 - val_loss: 0.6910\n",
      "Epoch 10/30\n",
      "177/177 - 1s - 5ms/step - accuracy: 0.9963 - loss: 0.0163 - val_accuracy: 0.8545 - val_loss: 0.7244\n",
      "Epoch 11/30\n"
     ]
    },
    {
     "ename": "KeyboardInterrupt",
     "evalue": "",
     "output_type": "error",
     "traceback": [
      "\u001b[1;31m---------------------------------------------------------------------------\u001b[0m",
      "\u001b[1;31mKeyboardInterrupt\u001b[0m                         Traceback (most recent call last)",
      "Cell \u001b[1;32mIn[120], line 10\u001b[0m\n\u001b[0;32m      1\u001b[0m tuner \u001b[38;5;241m=\u001b[39m kt\u001b[38;5;241m.\u001b[39mRandomSearch(\n\u001b[0;32m      2\u001b[0m     build_model2,\n\u001b[0;32m      3\u001b[0m     objective\u001b[38;5;241m=\u001b[39m\u001b[38;5;124m'\u001b[39m\u001b[38;5;124mval_accuracy\u001b[39m\u001b[38;5;124m'\u001b[39m,\n\u001b[1;32m   (...)\u001b[0m\n\u001b[0;32m      7\u001b[0m     project_name\u001b[38;5;241m=\u001b[39m\u001b[38;5;124m'\u001b[39m\u001b[38;5;124mseverity_classifier\u001b[39m\u001b[38;5;124m'\u001b[39m\n\u001b[0;32m      8\u001b[0m )\n\u001b[1;32m---> 10\u001b[0m \u001b[43mtuner\u001b[49m\u001b[38;5;241;43m.\u001b[39;49m\u001b[43msearch\u001b[49m\u001b[43m(\u001b[49m\u001b[43mX_train\u001b[49m\u001b[43m,\u001b[49m\u001b[43m \u001b[49m\u001b[43my_train\u001b[49m\u001b[43m,\u001b[49m\n\u001b[0;32m     11\u001b[0m \u001b[43m             \u001b[49m\u001b[43mepochs\u001b[49m\u001b[38;5;241;43m=\u001b[39;49m\u001b[38;5;241;43m30\u001b[39;49m\u001b[43m,\u001b[49m\n\u001b[0;32m     12\u001b[0m \u001b[43m             \u001b[49m\u001b[43mvalidation_data\u001b[49m\u001b[38;5;241;43m=\u001b[39;49m\u001b[43m(\u001b[49m\u001b[43mX_val\u001b[49m\u001b[43m,\u001b[49m\u001b[43m \u001b[49m\u001b[43my_val\u001b[49m\u001b[43m)\u001b[49m\u001b[43m,\u001b[49m\n\u001b[0;32m     13\u001b[0m \u001b[43m             \u001b[49m\u001b[43mbatch_size\u001b[49m\u001b[38;5;241;43m=\u001b[39;49m\u001b[38;5;241;43m32\u001b[39;49m\u001b[43m,\u001b[49m\n\u001b[0;32m     14\u001b[0m \u001b[43m             \u001b[49m\u001b[43mverbose\u001b[49m\u001b[38;5;241;43m=\u001b[39;49m\u001b[38;5;241;43m2\u001b[39;49m\u001b[43m)\u001b[49m\n",
      "File \u001b[1;32mc:\\Users\\conno\\anaconda3\\envs\\dev\\lib\\site-packages\\keras_tuner\\src\\engine\\base_tuner.py:234\u001b[0m, in \u001b[0;36mBaseTuner.search\u001b[1;34m(self, *fit_args, **fit_kwargs)\u001b[0m\n\u001b[0;32m    231\u001b[0m         \u001b[38;5;28;01mcontinue\u001b[39;00m\n\u001b[0;32m    233\u001b[0m     \u001b[38;5;28mself\u001b[39m\u001b[38;5;241m.\u001b[39mon_trial_begin(trial)\n\u001b[1;32m--> 234\u001b[0m     \u001b[38;5;28mself\u001b[39m\u001b[38;5;241m.\u001b[39m_try_run_and_update_trial(trial, \u001b[38;5;241m*\u001b[39mfit_args, \u001b[38;5;241m*\u001b[39m\u001b[38;5;241m*\u001b[39mfit_kwargs)\n\u001b[0;32m    235\u001b[0m     \u001b[38;5;28mself\u001b[39m\u001b[38;5;241m.\u001b[39mon_trial_end(trial)\n\u001b[0;32m    236\u001b[0m \u001b[38;5;28mself\u001b[39m\u001b[38;5;241m.\u001b[39mon_search_end()\n",
      "File \u001b[1;32mc:\\Users\\conno\\anaconda3\\envs\\dev\\lib\\site-packages\\keras_tuner\\src\\engine\\base_tuner.py:274\u001b[0m, in \u001b[0;36mBaseTuner._try_run_and_update_trial\u001b[1;34m(self, trial, *fit_args, **fit_kwargs)\u001b[0m\n\u001b[0;32m    272\u001b[0m \u001b[38;5;28;01mdef\u001b[39;00m \u001b[38;5;21m_try_run_and_update_trial\u001b[39m(\u001b[38;5;28mself\u001b[39m, trial, \u001b[38;5;241m*\u001b[39mfit_args, \u001b[38;5;241m*\u001b[39m\u001b[38;5;241m*\u001b[39mfit_kwargs):\n\u001b[0;32m    273\u001b[0m     \u001b[38;5;28;01mtry\u001b[39;00m:\n\u001b[1;32m--> 274\u001b[0m         \u001b[38;5;28mself\u001b[39m\u001b[38;5;241m.\u001b[39m_run_and_update_trial(trial, \u001b[38;5;241m*\u001b[39mfit_args, \u001b[38;5;241m*\u001b[39m\u001b[38;5;241m*\u001b[39mfit_kwargs)\n\u001b[0;32m    275\u001b[0m         trial\u001b[38;5;241m.\u001b[39mstatus \u001b[38;5;241m=\u001b[39m trial_module\u001b[38;5;241m.\u001b[39mTrialStatus\u001b[38;5;241m.\u001b[39mCOMPLETED\n\u001b[0;32m    276\u001b[0m         \u001b[38;5;28;01mreturn\u001b[39;00m\n",
      "File \u001b[1;32mc:\\Users\\conno\\anaconda3\\envs\\dev\\lib\\site-packages\\keras_tuner\\src\\engine\\base_tuner.py:239\u001b[0m, in \u001b[0;36mBaseTuner._run_and_update_trial\u001b[1;34m(self, trial, *fit_args, **fit_kwargs)\u001b[0m\n\u001b[0;32m    238\u001b[0m \u001b[38;5;28;01mdef\u001b[39;00m \u001b[38;5;21m_run_and_update_trial\u001b[39m(\u001b[38;5;28mself\u001b[39m, trial, \u001b[38;5;241m*\u001b[39mfit_args, \u001b[38;5;241m*\u001b[39m\u001b[38;5;241m*\u001b[39mfit_kwargs):\n\u001b[1;32m--> 239\u001b[0m     results \u001b[38;5;241m=\u001b[39m \u001b[38;5;28mself\u001b[39m\u001b[38;5;241m.\u001b[39mrun_trial(trial, \u001b[38;5;241m*\u001b[39mfit_args, \u001b[38;5;241m*\u001b[39m\u001b[38;5;241m*\u001b[39mfit_kwargs)\n\u001b[0;32m    240\u001b[0m     \u001b[38;5;28;01mif\u001b[39;00m \u001b[38;5;28mself\u001b[39m\u001b[38;5;241m.\u001b[39moracle\u001b[38;5;241m.\u001b[39mget_trial(trial\u001b[38;5;241m.\u001b[39mtrial_id)\u001b[38;5;241m.\u001b[39mmetrics\u001b[38;5;241m.\u001b[39mexists(\n\u001b[0;32m    241\u001b[0m         \u001b[38;5;28mself\u001b[39m\u001b[38;5;241m.\u001b[39moracle\u001b[38;5;241m.\u001b[39mobjective\u001b[38;5;241m.\u001b[39mname\n\u001b[0;32m    242\u001b[0m     ):\n\u001b[0;32m    243\u001b[0m         \u001b[38;5;66;03m# The oracle is updated by calling `self.oracle.update_trial()` in\u001b[39;00m\n\u001b[0;32m    244\u001b[0m         \u001b[38;5;66;03m# `Tuner.run_trial()`. For backward compatibility, we support this\u001b[39;00m\n\u001b[0;32m    245\u001b[0m         \u001b[38;5;66;03m# use case. No further action needed in this case.\u001b[39;00m\n\u001b[0;32m    246\u001b[0m         warnings\u001b[38;5;241m.\u001b[39mwarn(\n\u001b[0;32m    247\u001b[0m             \u001b[38;5;124m\"\u001b[39m\u001b[38;5;124mThe use case of calling \u001b[39m\u001b[38;5;124m\"\u001b[39m\n\u001b[0;32m    248\u001b[0m             \u001b[38;5;124m\"\u001b[39m\u001b[38;5;124m`self.oracle.update_trial(trial_id, metrics)` \u001b[39m\u001b[38;5;124m\"\u001b[39m\n\u001b[1;32m   (...)\u001b[0m\n\u001b[0;32m    254\u001b[0m             stacklevel\u001b[38;5;241m=\u001b[39m\u001b[38;5;241m2\u001b[39m,\n\u001b[0;32m    255\u001b[0m         )\n",
      "File \u001b[1;32mc:\\Users\\conno\\anaconda3\\envs\\dev\\lib\\site-packages\\keras_tuner\\src\\engine\\tuner.py:314\u001b[0m, in \u001b[0;36mTuner.run_trial\u001b[1;34m(self, trial, *args, **kwargs)\u001b[0m\n\u001b[0;32m    312\u001b[0m     callbacks\u001b[38;5;241m.\u001b[39mappend(model_checkpoint)\n\u001b[0;32m    313\u001b[0m     copied_kwargs[\u001b[38;5;124m\"\u001b[39m\u001b[38;5;124mcallbacks\u001b[39m\u001b[38;5;124m\"\u001b[39m] \u001b[38;5;241m=\u001b[39m callbacks\n\u001b[1;32m--> 314\u001b[0m     obj_value \u001b[38;5;241m=\u001b[39m \u001b[38;5;28mself\u001b[39m\u001b[38;5;241m.\u001b[39m_build_and_fit_model(trial, \u001b[38;5;241m*\u001b[39margs, \u001b[38;5;241m*\u001b[39m\u001b[38;5;241m*\u001b[39mcopied_kwargs)\n\u001b[0;32m    316\u001b[0m     histories\u001b[38;5;241m.\u001b[39mappend(obj_value)\n\u001b[0;32m    317\u001b[0m \u001b[38;5;28;01mreturn\u001b[39;00m histories\n",
      "File \u001b[1;32mc:\\Users\\conno\\anaconda3\\envs\\dev\\lib\\site-packages\\keras_tuner\\src\\engine\\tuner.py:233\u001b[0m, in \u001b[0;36mTuner._build_and_fit_model\u001b[1;34m(self, trial, *args, **kwargs)\u001b[0m\n\u001b[0;32m    231\u001b[0m hp \u001b[38;5;241m=\u001b[39m trial\u001b[38;5;241m.\u001b[39mhyperparameters\n\u001b[0;32m    232\u001b[0m model \u001b[38;5;241m=\u001b[39m \u001b[38;5;28mself\u001b[39m\u001b[38;5;241m.\u001b[39m_try_build(hp)\n\u001b[1;32m--> 233\u001b[0m results \u001b[38;5;241m=\u001b[39m \u001b[38;5;28mself\u001b[39m\u001b[38;5;241m.\u001b[39mhypermodel\u001b[38;5;241m.\u001b[39mfit(hp, model, \u001b[38;5;241m*\u001b[39margs, \u001b[38;5;241m*\u001b[39m\u001b[38;5;241m*\u001b[39mkwargs)\n\u001b[0;32m    235\u001b[0m \u001b[38;5;66;03m# Save the build config for model loading later.\u001b[39;00m\n\u001b[0;32m    236\u001b[0m \u001b[38;5;28;01mif\u001b[39;00m backend\u001b[38;5;241m.\u001b[39mconfig\u001b[38;5;241m.\u001b[39mmulti_backend():\n",
      "File \u001b[1;32mc:\\Users\\conno\\anaconda3\\envs\\dev\\lib\\site-packages\\keras_tuner\\src\\engine\\hypermodel.py:149\u001b[0m, in \u001b[0;36mHyperModel.fit\u001b[1;34m(self, hp, model, *args, **kwargs)\u001b[0m\n\u001b[0;32m    125\u001b[0m \u001b[38;5;28;01mdef\u001b[39;00m \u001b[38;5;21mfit\u001b[39m(\u001b[38;5;28mself\u001b[39m, hp, model, \u001b[38;5;241m*\u001b[39margs, \u001b[38;5;241m*\u001b[39m\u001b[38;5;241m*\u001b[39mkwargs):\n\u001b[0;32m    126\u001b[0m \u001b[38;5;250m    \u001b[39m\u001b[38;5;124;03m\"\"\"Train the model.\u001b[39;00m\n\u001b[0;32m    127\u001b[0m \n\u001b[0;32m    128\u001b[0m \u001b[38;5;124;03m    Args:\u001b[39;00m\n\u001b[1;32m   (...)\u001b[0m\n\u001b[0;32m    147\u001b[0m \u001b[38;5;124;03m        If return a float, it should be the `objective` value.\u001b[39;00m\n\u001b[0;32m    148\u001b[0m \u001b[38;5;124;03m    \"\"\"\u001b[39;00m\n\u001b[1;32m--> 149\u001b[0m     \u001b[38;5;28;01mreturn\u001b[39;00m model\u001b[38;5;241m.\u001b[39mfit(\u001b[38;5;241m*\u001b[39margs, \u001b[38;5;241m*\u001b[39m\u001b[38;5;241m*\u001b[39mkwargs)\n",
      "File \u001b[1;32mc:\\Users\\conno\\anaconda3\\envs\\dev\\lib\\site-packages\\keras\\src\\utils\\traceback_utils.py:117\u001b[0m, in \u001b[0;36mfilter_traceback.<locals>.error_handler\u001b[1;34m(*args, **kwargs)\u001b[0m\n\u001b[0;32m    115\u001b[0m filtered_tb \u001b[38;5;241m=\u001b[39m \u001b[38;5;28;01mNone\u001b[39;00m\n\u001b[0;32m    116\u001b[0m \u001b[38;5;28;01mtry\u001b[39;00m:\n\u001b[1;32m--> 117\u001b[0m     \u001b[38;5;28;01mreturn\u001b[39;00m fn(\u001b[38;5;241m*\u001b[39margs, \u001b[38;5;241m*\u001b[39m\u001b[38;5;241m*\u001b[39mkwargs)\n\u001b[0;32m    118\u001b[0m \u001b[38;5;28;01mexcept\u001b[39;00m \u001b[38;5;167;01mException\u001b[39;00m \u001b[38;5;28;01mas\u001b[39;00m e:\n\u001b[0;32m    119\u001b[0m     filtered_tb \u001b[38;5;241m=\u001b[39m _process_traceback_frames(e\u001b[38;5;241m.\u001b[39m__traceback__)\n",
      "File \u001b[1;32mc:\\Users\\conno\\anaconda3\\envs\\dev\\lib\\site-packages\\keras\\src\\backend\\tensorflow\\trainer.py:371\u001b[0m, in \u001b[0;36mTensorFlowTrainer.fit\u001b[1;34m(self, x, y, batch_size, epochs, verbose, callbacks, validation_split, validation_data, shuffle, class_weight, sample_weight, initial_epoch, steps_per_epoch, validation_steps, validation_batch_size, validation_freq)\u001b[0m\n\u001b[0;32m    369\u001b[0m \u001b[38;5;28;01mfor\u001b[39;00m step, iterator \u001b[38;5;129;01min\u001b[39;00m epoch_iterator:\n\u001b[0;32m    370\u001b[0m     callbacks\u001b[38;5;241m.\u001b[39mon_train_batch_begin(step)\n\u001b[1;32m--> 371\u001b[0m     logs \u001b[38;5;241m=\u001b[39m \u001b[38;5;28;43mself\u001b[39;49m\u001b[38;5;241;43m.\u001b[39;49m\u001b[43mtrain_function\u001b[49m\u001b[43m(\u001b[49m\u001b[43miterator\u001b[49m\u001b[43m)\u001b[49m\n\u001b[0;32m    372\u001b[0m     callbacks\u001b[38;5;241m.\u001b[39mon_train_batch_end(step, logs)\n\u001b[0;32m    373\u001b[0m     \u001b[38;5;28;01mif\u001b[39;00m \u001b[38;5;28mself\u001b[39m\u001b[38;5;241m.\u001b[39mstop_training:\n",
      "File \u001b[1;32mc:\\Users\\conno\\anaconda3\\envs\\dev\\lib\\site-packages\\keras\\src\\backend\\tensorflow\\trainer.py:219\u001b[0m, in \u001b[0;36mTensorFlowTrainer._make_function.<locals>.function\u001b[1;34m(iterator)\u001b[0m\n\u001b[0;32m    215\u001b[0m \u001b[38;5;28;01mdef\u001b[39;00m \u001b[38;5;21mfunction\u001b[39m(iterator):\n\u001b[0;32m    216\u001b[0m     \u001b[38;5;28;01mif\u001b[39;00m \u001b[38;5;28misinstance\u001b[39m(\n\u001b[0;32m    217\u001b[0m         iterator, (tf\u001b[38;5;241m.\u001b[39mdata\u001b[38;5;241m.\u001b[39mIterator, tf\u001b[38;5;241m.\u001b[39mdistribute\u001b[38;5;241m.\u001b[39mDistributedIterator)\n\u001b[0;32m    218\u001b[0m     ):\n\u001b[1;32m--> 219\u001b[0m         opt_outputs \u001b[38;5;241m=\u001b[39m \u001b[43mmulti_step_on_iterator\u001b[49m\u001b[43m(\u001b[49m\u001b[43miterator\u001b[49m\u001b[43m)\u001b[49m\n\u001b[0;32m    220\u001b[0m         \u001b[38;5;28;01mif\u001b[39;00m \u001b[38;5;129;01mnot\u001b[39;00m opt_outputs\u001b[38;5;241m.\u001b[39mhas_value():\n\u001b[0;32m    221\u001b[0m             \u001b[38;5;28;01mraise\u001b[39;00m \u001b[38;5;167;01mStopIteration\u001b[39;00m\n",
      "File \u001b[1;32mc:\\Users\\conno\\anaconda3\\envs\\dev\\lib\\site-packages\\tensorflow\\python\\util\\traceback_utils.py:150\u001b[0m, in \u001b[0;36mfilter_traceback.<locals>.error_handler\u001b[1;34m(*args, **kwargs)\u001b[0m\n\u001b[0;32m    148\u001b[0m filtered_tb \u001b[38;5;241m=\u001b[39m \u001b[38;5;28;01mNone\u001b[39;00m\n\u001b[0;32m    149\u001b[0m \u001b[38;5;28;01mtry\u001b[39;00m:\n\u001b[1;32m--> 150\u001b[0m   \u001b[38;5;28;01mreturn\u001b[39;00m fn(\u001b[38;5;241m*\u001b[39margs, \u001b[38;5;241m*\u001b[39m\u001b[38;5;241m*\u001b[39mkwargs)\n\u001b[0;32m    151\u001b[0m \u001b[38;5;28;01mexcept\u001b[39;00m \u001b[38;5;167;01mException\u001b[39;00m \u001b[38;5;28;01mas\u001b[39;00m e:\n\u001b[0;32m    152\u001b[0m   filtered_tb \u001b[38;5;241m=\u001b[39m _process_traceback_frames(e\u001b[38;5;241m.\u001b[39m__traceback__)\n",
      "File \u001b[1;32mc:\\Users\\conno\\anaconda3\\envs\\dev\\lib\\site-packages\\tensorflow\\python\\eager\\polymorphic_function\\polymorphic_function.py:833\u001b[0m, in \u001b[0;36mFunction.__call__\u001b[1;34m(self, *args, **kwds)\u001b[0m\n\u001b[0;32m    830\u001b[0m compiler \u001b[38;5;241m=\u001b[39m \u001b[38;5;124m\"\u001b[39m\u001b[38;5;124mxla\u001b[39m\u001b[38;5;124m\"\u001b[39m \u001b[38;5;28;01mif\u001b[39;00m \u001b[38;5;28mself\u001b[39m\u001b[38;5;241m.\u001b[39m_jit_compile \u001b[38;5;28;01melse\u001b[39;00m \u001b[38;5;124m\"\u001b[39m\u001b[38;5;124mnonXla\u001b[39m\u001b[38;5;124m\"\u001b[39m\n\u001b[0;32m    832\u001b[0m \u001b[38;5;28;01mwith\u001b[39;00m OptionalXlaContext(\u001b[38;5;28mself\u001b[39m\u001b[38;5;241m.\u001b[39m_jit_compile):\n\u001b[1;32m--> 833\u001b[0m   result \u001b[38;5;241m=\u001b[39m \u001b[38;5;28mself\u001b[39m\u001b[38;5;241m.\u001b[39m_call(\u001b[38;5;241m*\u001b[39margs, \u001b[38;5;241m*\u001b[39m\u001b[38;5;241m*\u001b[39mkwds)\n\u001b[0;32m    835\u001b[0m new_tracing_count \u001b[38;5;241m=\u001b[39m \u001b[38;5;28mself\u001b[39m\u001b[38;5;241m.\u001b[39mexperimental_get_tracing_count()\n\u001b[0;32m    836\u001b[0m without_tracing \u001b[38;5;241m=\u001b[39m (tracing_count \u001b[38;5;241m==\u001b[39m new_tracing_count)\n",
      "File \u001b[1;32mc:\\Users\\conno\\anaconda3\\envs\\dev\\lib\\site-packages\\tensorflow\\python\\eager\\polymorphic_function\\polymorphic_function.py:878\u001b[0m, in \u001b[0;36mFunction._call\u001b[1;34m(self, *args, **kwds)\u001b[0m\n\u001b[0;32m    875\u001b[0m \u001b[38;5;28mself\u001b[39m\u001b[38;5;241m.\u001b[39m_lock\u001b[38;5;241m.\u001b[39mrelease()\n\u001b[0;32m    876\u001b[0m \u001b[38;5;66;03m# In this case we have not created variables on the first call. So we can\u001b[39;00m\n\u001b[0;32m    877\u001b[0m \u001b[38;5;66;03m# run the first trace but we should fail if variables are created.\u001b[39;00m\n\u001b[1;32m--> 878\u001b[0m results \u001b[38;5;241m=\u001b[39m \u001b[43mtracing_compilation\u001b[49m\u001b[38;5;241;43m.\u001b[39;49m\u001b[43mcall_function\u001b[49m\u001b[43m(\u001b[49m\n\u001b[0;32m    879\u001b[0m \u001b[43m    \u001b[49m\u001b[43margs\u001b[49m\u001b[43m,\u001b[49m\u001b[43m \u001b[49m\u001b[43mkwds\u001b[49m\u001b[43m,\u001b[49m\u001b[43m \u001b[49m\u001b[38;5;28;43mself\u001b[39;49m\u001b[38;5;241;43m.\u001b[39;49m\u001b[43m_variable_creation_config\u001b[49m\n\u001b[0;32m    880\u001b[0m \u001b[43m\u001b[49m\u001b[43m)\u001b[49m\n\u001b[0;32m    881\u001b[0m \u001b[38;5;28;01mif\u001b[39;00m \u001b[38;5;28mself\u001b[39m\u001b[38;5;241m.\u001b[39m_created_variables:\n\u001b[0;32m    882\u001b[0m   \u001b[38;5;28;01mraise\u001b[39;00m \u001b[38;5;167;01mValueError\u001b[39;00m(\u001b[38;5;124m\"\u001b[39m\u001b[38;5;124mCreating variables on a non-first call to a function\u001b[39m\u001b[38;5;124m\"\u001b[39m\n\u001b[0;32m    883\u001b[0m                    \u001b[38;5;124m\"\u001b[39m\u001b[38;5;124m decorated with tf.function.\u001b[39m\u001b[38;5;124m\"\u001b[39m)\n",
      "File \u001b[1;32mc:\\Users\\conno\\anaconda3\\envs\\dev\\lib\\site-packages\\tensorflow\\python\\eager\\polymorphic_function\\tracing_compilation.py:139\u001b[0m, in \u001b[0;36mcall_function\u001b[1;34m(args, kwargs, tracing_options)\u001b[0m\n\u001b[0;32m    137\u001b[0m bound_args \u001b[38;5;241m=\u001b[39m function\u001b[38;5;241m.\u001b[39mfunction_type\u001b[38;5;241m.\u001b[39mbind(\u001b[38;5;241m*\u001b[39margs, \u001b[38;5;241m*\u001b[39m\u001b[38;5;241m*\u001b[39mkwargs)\n\u001b[0;32m    138\u001b[0m flat_inputs \u001b[38;5;241m=\u001b[39m function\u001b[38;5;241m.\u001b[39mfunction_type\u001b[38;5;241m.\u001b[39munpack_inputs(bound_args)\n\u001b[1;32m--> 139\u001b[0m \u001b[38;5;28;01mreturn\u001b[39;00m \u001b[43mfunction\u001b[49m\u001b[38;5;241;43m.\u001b[39;49m\u001b[43m_call_flat\u001b[49m\u001b[43m(\u001b[49m\u001b[43m  \u001b[49m\u001b[38;5;66;43;03m# pylint: disable=protected-access\u001b[39;49;00m\n\u001b[0;32m    140\u001b[0m \u001b[43m    \u001b[49m\u001b[43mflat_inputs\u001b[49m\u001b[43m,\u001b[49m\u001b[43m \u001b[49m\u001b[43mcaptured_inputs\u001b[49m\u001b[38;5;241;43m=\u001b[39;49m\u001b[43mfunction\u001b[49m\u001b[38;5;241;43m.\u001b[39;49m\u001b[43mcaptured_inputs\u001b[49m\n\u001b[0;32m    141\u001b[0m \u001b[43m\u001b[49m\u001b[43m)\u001b[49m\n",
      "File \u001b[1;32mc:\\Users\\conno\\anaconda3\\envs\\dev\\lib\\site-packages\\tensorflow\\python\\eager\\polymorphic_function\\concrete_function.py:1322\u001b[0m, in \u001b[0;36mConcreteFunction._call_flat\u001b[1;34m(self, tensor_inputs, captured_inputs)\u001b[0m\n\u001b[0;32m   1318\u001b[0m possible_gradient_type \u001b[38;5;241m=\u001b[39m gradients_util\u001b[38;5;241m.\u001b[39mPossibleTapeGradientTypes(args)\n\u001b[0;32m   1319\u001b[0m \u001b[38;5;28;01mif\u001b[39;00m (possible_gradient_type \u001b[38;5;241m==\u001b[39m gradients_util\u001b[38;5;241m.\u001b[39mPOSSIBLE_GRADIENT_TYPES_NONE\n\u001b[0;32m   1320\u001b[0m     \u001b[38;5;129;01mand\u001b[39;00m executing_eagerly):\n\u001b[0;32m   1321\u001b[0m   \u001b[38;5;66;03m# No tape is watching; skip to running the function.\u001b[39;00m\n\u001b[1;32m-> 1322\u001b[0m   \u001b[38;5;28;01mreturn\u001b[39;00m \u001b[38;5;28;43mself\u001b[39;49m\u001b[38;5;241;43m.\u001b[39;49m\u001b[43m_inference_function\u001b[49m\u001b[38;5;241;43m.\u001b[39;49m\u001b[43mcall_preflattened\u001b[49m\u001b[43m(\u001b[49m\u001b[43margs\u001b[49m\u001b[43m)\u001b[49m\n\u001b[0;32m   1323\u001b[0m forward_backward \u001b[38;5;241m=\u001b[39m \u001b[38;5;28mself\u001b[39m\u001b[38;5;241m.\u001b[39m_select_forward_and_backward_functions(\n\u001b[0;32m   1324\u001b[0m     args,\n\u001b[0;32m   1325\u001b[0m     possible_gradient_type,\n\u001b[0;32m   1326\u001b[0m     executing_eagerly)\n\u001b[0;32m   1327\u001b[0m forward_function, args_with_tangents \u001b[38;5;241m=\u001b[39m forward_backward\u001b[38;5;241m.\u001b[39mforward()\n",
      "File \u001b[1;32mc:\\Users\\conno\\anaconda3\\envs\\dev\\lib\\site-packages\\tensorflow\\python\\eager\\polymorphic_function\\atomic_function.py:216\u001b[0m, in \u001b[0;36mAtomicFunction.call_preflattened\u001b[1;34m(self, args)\u001b[0m\n\u001b[0;32m    214\u001b[0m \u001b[38;5;28;01mdef\u001b[39;00m \u001b[38;5;21mcall_preflattened\u001b[39m(\u001b[38;5;28mself\u001b[39m, args: Sequence[core\u001b[38;5;241m.\u001b[39mTensor]) \u001b[38;5;241m-\u001b[39m\u001b[38;5;241m>\u001b[39m Any:\n\u001b[0;32m    215\u001b[0m \u001b[38;5;250m  \u001b[39m\u001b[38;5;124;03m\"\"\"Calls with flattened tensor inputs and returns the structured output.\"\"\"\u001b[39;00m\n\u001b[1;32m--> 216\u001b[0m   flat_outputs \u001b[38;5;241m=\u001b[39m \u001b[38;5;28;43mself\u001b[39;49m\u001b[38;5;241;43m.\u001b[39;49m\u001b[43mcall_flat\u001b[49m\u001b[43m(\u001b[49m\u001b[38;5;241;43m*\u001b[39;49m\u001b[43margs\u001b[49m\u001b[43m)\u001b[49m\n\u001b[0;32m    217\u001b[0m   \u001b[38;5;28;01mreturn\u001b[39;00m \u001b[38;5;28mself\u001b[39m\u001b[38;5;241m.\u001b[39mfunction_type\u001b[38;5;241m.\u001b[39mpack_output(flat_outputs)\n",
      "File \u001b[1;32mc:\\Users\\conno\\anaconda3\\envs\\dev\\lib\\site-packages\\tensorflow\\python\\eager\\polymorphic_function\\atomic_function.py:251\u001b[0m, in \u001b[0;36mAtomicFunction.call_flat\u001b[1;34m(self, *args)\u001b[0m\n\u001b[0;32m    249\u001b[0m \u001b[38;5;28;01mwith\u001b[39;00m record\u001b[38;5;241m.\u001b[39mstop_recording():\n\u001b[0;32m    250\u001b[0m   \u001b[38;5;28;01mif\u001b[39;00m \u001b[38;5;28mself\u001b[39m\u001b[38;5;241m.\u001b[39m_bound_context\u001b[38;5;241m.\u001b[39mexecuting_eagerly():\n\u001b[1;32m--> 251\u001b[0m     outputs \u001b[38;5;241m=\u001b[39m \u001b[38;5;28;43mself\u001b[39;49m\u001b[38;5;241;43m.\u001b[39;49m\u001b[43m_bound_context\u001b[49m\u001b[38;5;241;43m.\u001b[39;49m\u001b[43mcall_function\u001b[49m\u001b[43m(\u001b[49m\n\u001b[0;32m    252\u001b[0m \u001b[43m        \u001b[49m\u001b[38;5;28;43mself\u001b[39;49m\u001b[38;5;241;43m.\u001b[39;49m\u001b[43mname\u001b[49m\u001b[43m,\u001b[49m\n\u001b[0;32m    253\u001b[0m \u001b[43m        \u001b[49m\u001b[38;5;28;43mlist\u001b[39;49m\u001b[43m(\u001b[49m\u001b[43margs\u001b[49m\u001b[43m)\u001b[49m\u001b[43m,\u001b[49m\n\u001b[0;32m    254\u001b[0m \u001b[43m        \u001b[49m\u001b[38;5;28;43mlen\u001b[39;49m\u001b[43m(\u001b[49m\u001b[38;5;28;43mself\u001b[39;49m\u001b[38;5;241;43m.\u001b[39;49m\u001b[43mfunction_type\u001b[49m\u001b[38;5;241;43m.\u001b[39;49m\u001b[43mflat_outputs\u001b[49m\u001b[43m)\u001b[49m\u001b[43m,\u001b[49m\n\u001b[0;32m    255\u001b[0m \u001b[43m    \u001b[49m\u001b[43m)\u001b[49m\n\u001b[0;32m    256\u001b[0m   \u001b[38;5;28;01melse\u001b[39;00m:\n\u001b[0;32m    257\u001b[0m     outputs \u001b[38;5;241m=\u001b[39m make_call_op_in_graph(\n\u001b[0;32m    258\u001b[0m         \u001b[38;5;28mself\u001b[39m,\n\u001b[0;32m    259\u001b[0m         \u001b[38;5;28mlist\u001b[39m(args),\n\u001b[0;32m    260\u001b[0m         \u001b[38;5;28mself\u001b[39m\u001b[38;5;241m.\u001b[39m_bound_context\u001b[38;5;241m.\u001b[39mfunction_call_options\u001b[38;5;241m.\u001b[39mas_attrs(),\n\u001b[0;32m    261\u001b[0m     )\n",
      "File \u001b[1;32mc:\\Users\\conno\\anaconda3\\envs\\dev\\lib\\site-packages\\tensorflow\\python\\eager\\context.py:1688\u001b[0m, in \u001b[0;36mContext.call_function\u001b[1;34m(self, name, tensor_inputs, num_outputs)\u001b[0m\n\u001b[0;32m   1686\u001b[0m cancellation_context \u001b[38;5;241m=\u001b[39m cancellation\u001b[38;5;241m.\u001b[39mcontext()\n\u001b[0;32m   1687\u001b[0m \u001b[38;5;28;01mif\u001b[39;00m cancellation_context \u001b[38;5;129;01mis\u001b[39;00m \u001b[38;5;28;01mNone\u001b[39;00m:\n\u001b[1;32m-> 1688\u001b[0m   outputs \u001b[38;5;241m=\u001b[39m \u001b[43mexecute\u001b[49m\u001b[38;5;241;43m.\u001b[39;49m\u001b[43mexecute\u001b[49m\u001b[43m(\u001b[49m\n\u001b[0;32m   1689\u001b[0m \u001b[43m      \u001b[49m\u001b[43mname\u001b[49m\u001b[38;5;241;43m.\u001b[39;49m\u001b[43mdecode\u001b[49m\u001b[43m(\u001b[49m\u001b[38;5;124;43m\"\u001b[39;49m\u001b[38;5;124;43mutf-8\u001b[39;49m\u001b[38;5;124;43m\"\u001b[39;49m\u001b[43m)\u001b[49m\u001b[43m,\u001b[49m\n\u001b[0;32m   1690\u001b[0m \u001b[43m      \u001b[49m\u001b[43mnum_outputs\u001b[49m\u001b[38;5;241;43m=\u001b[39;49m\u001b[43mnum_outputs\u001b[49m\u001b[43m,\u001b[49m\n\u001b[0;32m   1691\u001b[0m \u001b[43m      \u001b[49m\u001b[43minputs\u001b[49m\u001b[38;5;241;43m=\u001b[39;49m\u001b[43mtensor_inputs\u001b[49m\u001b[43m,\u001b[49m\n\u001b[0;32m   1692\u001b[0m \u001b[43m      \u001b[49m\u001b[43mattrs\u001b[49m\u001b[38;5;241;43m=\u001b[39;49m\u001b[43mattrs\u001b[49m\u001b[43m,\u001b[49m\n\u001b[0;32m   1693\u001b[0m \u001b[43m      \u001b[49m\u001b[43mctx\u001b[49m\u001b[38;5;241;43m=\u001b[39;49m\u001b[38;5;28;43mself\u001b[39;49m\u001b[43m,\u001b[49m\n\u001b[0;32m   1694\u001b[0m \u001b[43m  \u001b[49m\u001b[43m)\u001b[49m\n\u001b[0;32m   1695\u001b[0m \u001b[38;5;28;01melse\u001b[39;00m:\n\u001b[0;32m   1696\u001b[0m   outputs \u001b[38;5;241m=\u001b[39m execute\u001b[38;5;241m.\u001b[39mexecute_with_cancellation(\n\u001b[0;32m   1697\u001b[0m       name\u001b[38;5;241m.\u001b[39mdecode(\u001b[38;5;124m\"\u001b[39m\u001b[38;5;124mutf-8\u001b[39m\u001b[38;5;124m\"\u001b[39m),\n\u001b[0;32m   1698\u001b[0m       num_outputs\u001b[38;5;241m=\u001b[39mnum_outputs,\n\u001b[1;32m   (...)\u001b[0m\n\u001b[0;32m   1702\u001b[0m       cancellation_manager\u001b[38;5;241m=\u001b[39mcancellation_context,\n\u001b[0;32m   1703\u001b[0m   )\n",
      "File \u001b[1;32mc:\\Users\\conno\\anaconda3\\envs\\dev\\lib\\site-packages\\tensorflow\\python\\eager\\execute.py:53\u001b[0m, in \u001b[0;36mquick_execute\u001b[1;34m(op_name, num_outputs, inputs, attrs, ctx, name)\u001b[0m\n\u001b[0;32m     51\u001b[0m \u001b[38;5;28;01mtry\u001b[39;00m:\n\u001b[0;32m     52\u001b[0m   ctx\u001b[38;5;241m.\u001b[39mensure_initialized()\n\u001b[1;32m---> 53\u001b[0m   tensors \u001b[38;5;241m=\u001b[39m \u001b[43mpywrap_tfe\u001b[49m\u001b[38;5;241;43m.\u001b[39;49m\u001b[43mTFE_Py_Execute\u001b[49m\u001b[43m(\u001b[49m\u001b[43mctx\u001b[49m\u001b[38;5;241;43m.\u001b[39;49m\u001b[43m_handle\u001b[49m\u001b[43m,\u001b[49m\u001b[43m \u001b[49m\u001b[43mdevice_name\u001b[49m\u001b[43m,\u001b[49m\u001b[43m \u001b[49m\u001b[43mop_name\u001b[49m\u001b[43m,\u001b[49m\n\u001b[0;32m     54\u001b[0m \u001b[43m                                      \u001b[49m\u001b[43minputs\u001b[49m\u001b[43m,\u001b[49m\u001b[43m \u001b[49m\u001b[43mattrs\u001b[49m\u001b[43m,\u001b[49m\u001b[43m \u001b[49m\u001b[43mnum_outputs\u001b[49m\u001b[43m)\u001b[49m\n\u001b[0;32m     55\u001b[0m \u001b[38;5;28;01mexcept\u001b[39;00m core\u001b[38;5;241m.\u001b[39m_NotOkStatusException \u001b[38;5;28;01mas\u001b[39;00m e:\n\u001b[0;32m     56\u001b[0m   \u001b[38;5;28;01mif\u001b[39;00m name \u001b[38;5;129;01mis\u001b[39;00m \u001b[38;5;129;01mnot\u001b[39;00m \u001b[38;5;28;01mNone\u001b[39;00m:\n",
      "\u001b[1;31mKeyboardInterrupt\u001b[0m: "
     ]
    }
   ],
   "source": [
    "tuner = kt.RandomSearch(\n",
    "    build_model2,\n",
    "    objective='val_accuracy',\n",
    "    max_trials=20,\n",
    "    executions_per_trial=1,\n",
    "    directory='kt_class_dir',\n",
    "    project_name='severity_classifier'\n",
    ")\n",
    "\n",
    "tuner.search(X_train, y_train,\n",
    "             epochs=30,\n",
    "             validation_data=(X_val, y_val),\n",
    "             batch_size=32,\n",
    "             verbose=2)\n"
   ]
  },
  {
   "cell_type": "code",
   "execution_count": 121,
   "id": "59f4724c",
   "metadata": {},
   "outputs": [
    {
     "name": "stderr",
     "output_type": "stream",
     "text": [
      "c:\\Users\\conno\\anaconda3\\envs\\dev\\lib\\site-packages\\keras\\src\\saving\\saving_lib.py:757: UserWarning: Skipping variable loading for optimizer 'rmsprop', because it has 2 variables whereas the saved optimizer has 6 variables. \n",
      "  saveable.load_own_variables(weights_store.get(inner_path))\n"
     ]
    },
    {
     "name": "stdout",
     "output_type": "stream",
     "text": [
      "\u001b[1m45/45\u001b[0m \u001b[32m━━━━━━━━━━━━━━━━━━━━\u001b[0m\u001b[37m\u001b[0m \u001b[1m0s\u001b[0m 2ms/step - accuracy: 0.2122 - loss: 7.5649 \n",
      "Validation Accuracy: 0.2165\n"
     ]
    }
   ],
   "source": [
    "best_model = tuner.get_best_models(1)[0]\n",
    "\n",
    "# Evaluate\n",
    "loss, accuracy = best_model.evaluate(X_val, y_val)\n",
    "print(f\"Validation Accuracy: {accuracy:.4f}\")\n"
   ]
  }
 ],
 "metadata": {
  "kernelspec": {
   "display_name": "dev",
   "language": "python",
   "name": "python3"
  },
  "language_info": {
   "codemirror_mode": {
    "name": "ipython",
    "version": 3
   },
   "file_extension": ".py",
   "mimetype": "text/x-python",
   "name": "python",
   "nbconvert_exporter": "python",
   "pygments_lexer": "ipython3",
   "version": "3.10.16"
  }
 },
 "nbformat": 4,
 "nbformat_minor": 5
}
