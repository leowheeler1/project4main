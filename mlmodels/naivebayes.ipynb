{
 "cells": [
  {
   "cell_type": "code",
   "execution_count": 1,
   "id": "ec3dcbf8",
   "metadata": {},
   "outputs": [
    {
     "name": "stdout",
     "output_type": "stream",
     "text": [
      "<Compressed Sparse Row sparse matrix of dtype 'float64'\n",
      "\twith 115782 stored elements and shape (5282, 8514)>\n",
      "  Coords\tValues\n",
      "  (0, 8232)\t0.25040301540124993\n",
      "  (0, 4942)\t0.3020279644797659\n",
      "  (0, 8490)\t0.35033272125468834\n",
      "  (0, 4441)\t0.3234652478407264\n",
      "  (0, 8488)\t0.36312218487299586\n",
      "  (0, 4105)\t0.38340866342101343\n",
      "  (0, 131)\t0.33611694335583137\n",
      "  (0, 2844)\t0.2517338974471896\n",
      "  (0, 1880)\t0.40436391696063495\n",
      "  (1, 7601)\t0.2784559751372677\n",
      "  (1, 7729)\t0.09738084451627431\n",
      "  (1, 5232)\t0.09808615400744047\n",
      "  (1, 4703)\t0.1430758576048859\n",
      "  (1, 749)\t0.12250483887130896\n",
      "  (1, 3058)\t0.23850803657884237\n",
      "  (1, 295)\t0.13710348759118834\n",
      "  (1, 3780)\t0.19010422491120965\n",
      "  (1, 5160)\t0.14617333031576848\n",
      "  (1, 4827)\t0.13934484340556888\n",
      "  (1, 8103)\t0.13230030210340882\n",
      "  (1, 6646)\t0.2278493798821864\n",
      "  (1, 4739)\t0.18793978521385618\n",
      "  (1, 4879)\t0.1632334529054089\n",
      "  (1, 4875)\t0.15457500539157024\n",
      "  (1, 1764)\t0.31126502871675993\n",
      "  :\t:\n",
      "  (5280, 3547)\t0.2253921362512485\n",
      "  (5280, 999)\t0.31897367003444643\n",
      "  (5280, 1302)\t0.25910481470602587\n",
      "  (5280, 7420)\t0.26904670390373236\n",
      "  (5280, 2844)\t0.18651621462537432\n",
      "  (5280, 4510)\t0.28114019340762597\n",
      "  (5280, 5587)\t0.33017602994921547\n",
      "  (5280, 1287)\t0.2825961961613213\n",
      "  (5280, 2836)\t0.37532937175723596\n",
      "  (5280, 6514)\t0.4319480447074167\n",
      "  (5281, 1733)\t0.24889290297204192\n",
      "  (5281, 3547)\t0.20115316841870362\n",
      "  (5281, 1302)\t0.23124034093434132\n",
      "  (5281, 8232)\t0.16557797438366037\n",
      "  (5281, 7420)\t0.24011306624520612\n",
      "  (5281, 4441)\t0.21389007810130706\n",
      "  (5281, 8488)\t0.24011306624520612\n",
      "  (5281, 2844)\t0.16645801471766816\n",
      "  (5281, 8329)\t0.28433694877057175\n",
      "  (5281, 4709)\t0.30356290939174574\n",
      "  (5281, 4510)\t0.25090600592538564\n",
      "  (5281, 7427)\t0.30486048582774194\n",
      "  (5281, 5587)\t0.2946684638818031\n",
      "  (5281, 1287)\t0.25220542822113823\n",
      "  (5281, 903)\t0.38549578184176525\n"
     ]
    }
   ],
   "source": [
    "import sys\n",
    "import os\n",
    "\n",
    "# Add the parent directory to the system path\n",
    "sys.path.append(os.path.abspath(\"../utils\"))\n",
    "\n",
    "from transformdata import X_train , X_test , y_train , y_test\n",
    "\n",
    "print(X_train)"
   ]
  },
  {
   "cell_type": "code",
   "execution_count": 6,
   "id": "afac6c1a",
   "metadata": {},
   "outputs": [
    {
     "data": {
      "text/plain": [
       "0.8143100511073254"
      ]
     },
     "execution_count": 6,
     "metadata": {},
     "output_type": "execute_result"
    }
   ],
   "source": [
    "from sklearn.naive_bayes import GaussianNB\n",
    "from sklearn.metrics import accuracy_score\n",
    "gnb = GaussianNB()\n",
    "preds = gnb.fit(X_train, y_train).predict(X_test.toarray())\n",
    "accuracy_score(y_test, preds)"
   ]
  },
  {
   "cell_type": "code",
   "execution_count": 7,
   "id": "61c2ce3d",
   "metadata": {},
   "outputs": [
    {
     "data": {
      "text/plain": [
       "0.8307779670641681"
      ]
     },
     "execution_count": 7,
     "metadata": {},
     "output_type": "execute_result"
    }
   ],
   "source": [
    "from sklearn.naive_bayes import MultinomialNB\n",
    "mnb = MultinomialNB()\n",
    "preds = mnb.fit(X_train, y_train).predict(X_test.toarray())\n",
    "accuracy_score(y_test, preds)"
   ]
  },
  {
   "cell_type": "code",
   "execution_count": 8,
   "id": "48a3e013",
   "metadata": {},
   "outputs": [
    {
     "data": {
      "text/plain": [
       "0.8375922771152754"
      ]
     },
     "execution_count": 8,
     "metadata": {},
     "output_type": "execute_result"
    }
   ],
   "source": [
    "from sklearn.naive_bayes import ComplementNB\n",
    "cnb = ComplementNB()\n",
    "preds = cnb.fit(X_train, y_train).predict(X_test.toarray())\n",
    "accuracy_score(y_test, preds)"
   ]
  },
  {
   "cell_type": "code",
   "execution_count": 13,
   "id": "8f014b2d",
   "metadata": {},
   "outputs": [
    {
     "data": {
      "text/plain": [
       "0.6956274843838728"
      ]
     },
     "execution_count": 13,
     "metadata": {},
     "output_type": "execute_result"
    }
   ],
   "source": [
    "from sklearn.naive_bayes import BernoulliNB\n",
    "bnb = BernoulliNB()\n",
    "preds = bnb.fit(X_train, y_train).predict(X_test.toarray())\n",
    "accuracy_score(y_test, preds)"
   ]
  },
  {
   "cell_type": "code",
   "execution_count": 15,
   "id": "50043942",
   "metadata": {},
   "outputs": [
    {
     "data": {
      "text/plain": [
       "0.3526405451448041"
      ]
     },
     "execution_count": 15,
     "metadata": {},
     "output_type": "execute_result"
    }
   ],
   "source": [
    "from sklearn.naive_bayes import CategoricalNB\n",
    "canb = CategoricalNB()\n",
    "preds = canb.fit(X_train, y_train).predict(X_test.toarray())\n",
    "accuracy_score(y_test, preds)"
   ]
  },
  {
   "cell_type": "code",
   "execution_count": null,
   "id": "20990477",
   "metadata": {},
   "outputs": [],
   "source": []
  }
 ],
 "metadata": {
  "kernelspec": {
   "display_name": "dev",
   "language": "python",
   "name": "python3"
  },
  "language_info": {
   "codemirror_mode": {
    "name": "ipython",
    "version": 3
   },
   "file_extension": ".py",
   "mimetype": "text/x-python",
   "name": "python",
   "nbconvert_exporter": "python",
   "pygments_lexer": "ipython3",
   "version": "3.10.16"
  }
 },
 "nbformat": 4,
 "nbformat_minor": 5
}
