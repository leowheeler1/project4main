{
 "cells": [
  {
   "cell_type": "code",
   "execution_count": 6,
   "id": "6d639074",
   "metadata": {},
   "outputs": [
    {
     "name": "stdout",
     "output_type": "stream",
     "text": [
      "<Compressed Sparse Row sparse matrix of dtype 'float64'\n",
      "\twith 115782 stored elements and shape (5282, 8514)>\n",
      "  Coords\tValues\n",
      "  (0, 8232)\t0.25040301540124993\n",
      "  (0, 4942)\t0.3020279644797659\n",
      "  (0, 8490)\t0.35033272125468834\n",
      "  (0, 4441)\t0.3234652478407264\n",
      "  (0, 8488)\t0.36312218487299586\n",
      "  (0, 4105)\t0.38340866342101343\n",
      "  (0, 131)\t0.33611694335583137\n",
      "  (0, 2844)\t0.2517338974471896\n",
      "  (0, 1880)\t0.40436391696063495\n",
      "  (1, 7601)\t0.2784559751372677\n",
      "  (1, 7729)\t0.09738084451627431\n",
      "  (1, 5232)\t0.09808615400744047\n",
      "  (1, 4703)\t0.1430758576048859\n",
      "  (1, 749)\t0.12250483887130896\n",
      "  (1, 3058)\t0.23850803657884237\n",
      "  (1, 295)\t0.13710348759118834\n",
      "  (1, 3780)\t0.19010422491120965\n",
      "  (1, 5160)\t0.14617333031576848\n",
      "  (1, 4827)\t0.13934484340556888\n",
      "  (1, 8103)\t0.13230030210340882\n",
      "  (1, 6646)\t0.2278493798821864\n",
      "  (1, 4739)\t0.18793978521385618\n",
      "  (1, 4879)\t0.1632334529054089\n",
      "  (1, 4875)\t0.15457500539157024\n",
      "  (1, 1764)\t0.31126502871675993\n",
      "  :\t:\n",
      "  (5280, 3547)\t0.2253921362512485\n",
      "  (5280, 999)\t0.31897367003444643\n",
      "  (5280, 1302)\t0.25910481470602587\n",
      "  (5280, 7420)\t0.26904670390373236\n",
      "  (5280, 2844)\t0.18651621462537432\n",
      "  (5280, 4510)\t0.28114019340762597\n",
      "  (5280, 5587)\t0.33017602994921547\n",
      "  (5280, 1287)\t0.2825961961613213\n",
      "  (5280, 2836)\t0.37532937175723596\n",
      "  (5280, 6514)\t0.4319480447074167\n",
      "  (5281, 1733)\t0.24889290297204192\n",
      "  (5281, 3547)\t0.20115316841870362\n",
      "  (5281, 1302)\t0.23124034093434132\n",
      "  (5281, 8232)\t0.16557797438366037\n",
      "  (5281, 7420)\t0.24011306624520612\n",
      "  (5281, 4441)\t0.21389007810130706\n",
      "  (5281, 8488)\t0.24011306624520612\n",
      "  (5281, 2844)\t0.16645801471766816\n",
      "  (5281, 8329)\t0.28433694877057175\n",
      "  (5281, 4709)\t0.30356290939174574\n",
      "  (5281, 4510)\t0.25090600592538564\n",
      "  (5281, 7427)\t0.30486048582774194\n",
      "  (5281, 5587)\t0.2946684638818031\n",
      "  (5281, 1287)\t0.25220542822113823\n",
      "  (5281, 903)\t0.38549578184176525\n"
     ]
    }
   ],
   "source": [
    "import sys\n",
    "import os\n",
    "\n",
    "# Add the parent directory to the system path\n",
    "sys.path.append(os.path.abspath(\"../utils\"))\n",
    "\n",
    "from transformdata import X_train , X_test , y_train , y_test\n",
    "\n",
    "print(X_train)"
   ]
  },
  {
   "cell_type": "code",
   "execution_count": 7,
   "id": "26349db3",
   "metadata": {},
   "outputs": [],
   "source": [
    "from sklearn.ensemble import RandomForestClassifier\n",
    "from sklearn.metrics import accuracy_score\n",
    "import time\n",
    "from xgboost import XGBClassifier"
   ]
  },
  {
   "cell_type": "markdown",
   "id": "27ab11d6",
   "metadata": {},
   "source": [
    "# Notes\n",
    "## Interpreting Results of these tuners\n",
    "The tuners both output data in dictionary format with two items:\n",
    "- n_estimators\n",
    "- accuracy\n",
    "\n",
    "The number of estimators will be equal to the model number + 1"
   ]
  },
  {
   "cell_type": "code",
   "execution_count": 3,
   "id": "84673f0c",
   "metadata": {},
   "outputs": [],
   "source": [
    "def rfTuner(X_train, y_train, X_test, y_test, epochs=100):\n",
    "    print('Initializing Tuner...')\n",
    "    output = {} # saving info on models\n",
    "    best_acc = 0 # tracking highest accuracy\n",
    "    start = time.time() # timing\n",
    "    for i in range(epochs): # user-defined loop length\n",
    "        model = RandomForestClassifier(n_estimators=i+1) # changing estimators\n",
    "        model.fit(X_train, y_train)\n",
    "        preds = model.predict(X_test)\n",
    "        acc = accuracy_score(y_test, preds)\n",
    "        output[i] = {'estimators':i+1, # output appending\n",
    "                     'acc':acc}\n",
    "        print(f'model complete: {i}', end='\\r')\n",
    "        if acc > best_acc: # updating highest accuracy\n",
    "            print(f'New best Accuracy! Model {i}')\n",
    "            print(f'{round(acc*100,2)}%')\n",
    "            best_acc = acc\n",
    "    print(f'Total runtime: {(time.time() - start)/60} minutes')\n",
    "    return output\n"
   ]
  },
  {
   "cell_type": "code",
   "execution_count": 11,
   "id": "52506526",
   "metadata": {},
   "outputs": [
    {
     "name": "stdout",
     "output_type": "stream",
     "text": [
      "Initializing Tuner...\n",
      "New best Accuracy! Model 0\n",
      "82.06%\n",
      "New best Accuracy! Model 2\n",
      "82.91%\n",
      "New best Accuracy! Model 3\n",
      "84.61%\n",
      "New best Accuracy! Model 4\n",
      "85.29%\n",
      "New best Accuracy! Model 5\n",
      "85.35%\n",
      "New best Accuracy! Model 6\n",
      "86.09%\n",
      "New best Accuracy! Model 10\n",
      "86.6%\n",
      "New best Accuracy! Model 14\n",
      "87.28%\n",
      "New best Accuracy! Model 19\n",
      "87.45%\n",
      "New best Accuracy! Model 23\n",
      "88.3%\n",
      "New best Accuracy! Model 42\n",
      "88.36%\n",
      "New best Accuracy! Model 55\n",
      "88.42%\n",
      "New best Accuracy! Model 66\n",
      "88.59%\n",
      "New best Accuracy! Model 85\n",
      "88.98%\n",
      "New best Accuracy! Model 131\n",
      "89.15%\n",
      "Total runtime: 21.712674729029338 minutes\n"
     ]
    }
   ],
   "source": [
    "saved = rfTuner(X_train, y_train, X_test, y_test, epochs=200)"
   ]
  },
  {
   "cell_type": "code",
   "execution_count": 4,
   "id": "59d6535c",
   "metadata": {},
   "outputs": [],
   "source": [
    "def xgbTuner(X_train, y_train, X_test, y_test, epochs=100):\n",
    "    output = {} # this one is basically the same as the other \n",
    "    best_acc = 0\n",
    "    start = time.time()\n",
    "    for i in range(epochs):\n",
    "        model = XGBClassifier(objective='multi:softmax', num_class=5, n_estimators=i+1, learning_rate=0.1)\n",
    "        ytrain_mod = [item-1 for item in y_train] # 1-5 in data, xgb likes starting from 0\n",
    "        ytest_mod = [item-1 for item in y_test] # these lines just make a new list thats the same as before but -1\n",
    "        model.fit(X_train, ytrain_mod)\n",
    "        preds = model.predict(X_test)\n",
    "        acc = accuracy_score(ytest_mod, preds)\n",
    "        output[i] = {'estimators':i+1,\n",
    "                     'acc':acc}\n",
    "        print(f'model complete: {i}', end='\\r')\n",
    "        if acc > best_acc:\n",
    "            print(f'New best Accuracy! Model {i}')\n",
    "            print(f'{round(acc*100,2)}%')\n",
    "            best_acc = acc\n",
    "    print(f'Total runtime: {(time.time() - start)/60} minutes')\n",
    "    return output\n",
    "        "
   ]
  },
  {
   "cell_type": "code",
   "execution_count": 13,
   "id": "03d625fc",
   "metadata": {},
   "outputs": [
    {
     "name": "stdout",
     "output_type": "stream",
     "text": [
      "New best Accuracy! Model 0\n",
      "75.13%\n",
      "New best Accuracy! Model 1\n",
      "77.63%\n",
      "New best Accuracy! Model 2\n",
      "78.59%\n",
      "New best Accuracy! Model 3\n",
      "79.27%\n",
      "New best Accuracy! Model 4\n",
      "79.39%\n",
      "New best Accuracy! Model 5\n",
      "79.44%\n",
      "New best Accuracy! Model 6\n",
      "79.61%\n",
      "New best Accuracy! Model 7\n",
      "80.52%\n",
      "New best Accuracy! Model 8\n",
      "80.98%\n",
      "New best Accuracy! Model 9\n",
      "81.32%\n",
      "New best Accuracy! Model 10\n",
      "81.43%\n",
      "New best Accuracy! Model 11\n",
      "81.71%\n",
      "New best Accuracy! Model 12\n",
      "82.06%\n",
      "New best Accuracy! Model 13\n",
      "82.4%\n",
      "New best Accuracy! Model 15\n",
      "82.51%\n",
      "New best Accuracy! Model 16\n",
      "82.74%\n",
      "New best Accuracy! Model 17\n",
      "82.79%\n",
      "New best Accuracy! Model 18\n",
      "83.65%\n",
      "New best Accuracy! Model 24\n",
      "83.82%\n",
      "New best Accuracy! Model 25\n",
      "83.93%\n",
      "New best Accuracy! Model 26\n",
      "83.99%\n",
      "New best Accuracy! Model 27\n",
      "84.04%\n",
      "New best Accuracy! Model 28\n",
      "84.1%\n",
      "New best Accuracy! Model 29\n",
      "84.33%\n",
      "New best Accuracy! Model 31\n",
      "84.5%\n",
      "New best Accuracy! Model 33\n",
      "84.61%\n",
      "New best Accuracy! Model 35\n",
      "85.01%\n",
      "New best Accuracy! Model 37\n",
      "85.29%\n",
      "New best Accuracy! Model 39\n",
      "85.52%\n",
      "New best Accuracy! Model 40\n",
      "85.58%\n",
      "New best Accuracy! Model 41\n",
      "85.75%\n",
      "New best Accuracy! Model 44\n",
      "85.97%\n",
      "New best Accuracy! Model 49\n",
      "86.03%\n",
      "New best Accuracy! Model 50\n",
      "86.2%\n",
      "New best Accuracy! Model 51\n",
      "86.37%\n",
      "New best Accuracy! Model 53\n",
      "86.66%\n",
      "New best Accuracy! Model 54\n",
      "86.83%\n",
      "New best Accuracy! Model 55\n",
      "86.94%\n",
      "New best Accuracy! Model 56\n",
      "87.0%\n",
      "New best Accuracy! Model 58\n",
      "87.05%\n",
      "New best Accuracy! Model 60\n",
      "87.11%\n",
      "New best Accuracy! Model 61\n",
      "87.22%\n",
      "New best Accuracy! Model 63\n",
      "87.34%\n",
      "New best Accuracy! Model 65\n",
      "87.39%\n",
      "New best Accuracy! Model 66\n",
      "87.56%\n",
      "New best Accuracy! Model 77\n",
      "87.73%\n",
      "New best Accuracy! Model 89\n",
      "87.79%\n",
      "New best Accuracy! Model 117\n",
      "87.85%\n",
      "New best Accuracy! Model 122\n",
      "87.96%\n",
      "New best Accuracy! Model 151\n",
      "88.02%\n",
      "New best Accuracy! Model 164\n",
      "88.13%\n",
      "New best Accuracy! Model 170\n",
      "88.19%\n",
      "New best Accuracy! Model 171\n",
      "88.25%\n",
      "New best Accuracy! Model 174\n",
      "88.3%\n",
      "New best Accuracy! Model 176\n",
      "88.36%\n",
      "New best Accuracy! Model 193\n",
      "88.42%\n",
      "New best Accuracy! Model 194\n",
      "88.47%\n",
      "Total runtime: 49.56776933670044 minutes\n"
     ]
    }
   ],
   "source": [
    "saved2 = xgbTuner(X_train, y_train, X_test, y_test, epochs=200)"
   ]
  },
  {
   "cell_type": "code",
   "execution_count": 15,
   "id": "4cbb2a69",
   "metadata": {},
   "outputs": [
    {
     "name": "stdout",
     "output_type": "stream",
     "text": [
      "Highest Scoring Models:\n",
      "Random Forest: 199 estimators, 0.89% accuracy \n",
      "XGBoost: 200 estimators, 0.88% accuracy\n"
     ]
    }
   ],
   "source": [
    "# Random Forest\n",
    "i= 0\n",
    "estimator1 = []\n",
    "acc1 = []\n",
    "acc_last = 0\n",
    "peak1 = 0\n",
    "for key in saved.keys():\n",
    "    estimator1.append(saved[key]['estimators'])\n",
    "    acc1.append(saved[key]['acc'])\n",
    "for acc in acc1:\n",
    "    if acc > acc_last:\n",
    "        peak1 = i\n",
    "    acc_last = acc\n",
    "    i += 1\n",
    "# XGBoost\n",
    "i = 0\n",
    "acc2_last = 0\n",
    "estimator2 = []\n",
    "acc2 = []\n",
    "peak2 = 0\n",
    "for key in saved2.keys():\n",
    "    estimator2.append(saved2[key]['estimators'])\n",
    "    acc2.append(saved2[key]['acc'])\n",
    "for acc in acc2:\n",
    "    if acc > acc2_last:\n",
    "        peak2 = i\n",
    "    acc_last2 = acc\n",
    "    i += 1\n",
    "print('Highest Scoring Models:')\n",
    "print(f'Random Forest: {estimator1[peak1]} estimators, {round(acc1[peak1],2)}% accuracy ')\n",
    "print(f'XGBoost: {estimator2[peak2]} estimators, {round(acc2[peak2],2)}% accuracy')"
   ]
  },
  {
   "cell_type": "markdown",
   "id": "f445b2db",
   "metadata": {},
   "source": [
    "# Saving with `Pickle`"
   ]
  },
  {
   "cell_type": "code",
   "execution_count": 5,
   "id": "a9e2637b",
   "metadata": {},
   "outputs": [],
   "source": [
    "import pickle"
   ]
  },
  {
   "cell_type": "code",
   "execution_count": 6,
   "id": "72d95e48",
   "metadata": {},
   "outputs": [],
   "source": [
    "def rfPacker(n_estimators, file):\n",
    "    model = RandomForestClassifier(n_estimators=n_estimators)\n",
    "    model.fit(X_train, y_train)\n",
    "    with open(file, 'wb') as file:\n",
    "        pickle.dump(model, file)\n",
    "\n",
    "def xgbPacker(n_estimators, file):\n",
    "    model = XGBClassifier(objective='multi:softmax', num_class=5, n_estimators=n_estimators, learning_rate=0.1)\n",
    "    ytrain_mod = [item-1 for item in y_train]\n",
    "    model.fit(X_train, ytrain_mod)\n",
    "    with open(file, 'wb') as file:\n",
    "        pickle.dump(model, file)"
   ]
  },
  {
   "cell_type": "code",
   "execution_count": 7,
   "id": "e0dc3249",
   "metadata": {},
   "outputs": [],
   "source": [
    "rfPacker(199, 'trained_mlmodels/rfHealthBot.pkl')\n",
    "xgbPacker(200, 'trained_mlmodels/xgbHealthBot.pkl')"
   ]
  },
  {
   "cell_type": "markdown",
   "id": "29651b9f",
   "metadata": {},
   "source": [
    "# Loading with `Pickle`"
   ]
  },
  {
   "cell_type": "code",
   "execution_count": 19,
   "id": "54fb38a1",
   "metadata": {},
   "outputs": [
    {
     "name": "stdout",
     "output_type": "stream",
     "text": [
      "Saved Model Scores:\n",
      "RandomForest: 0.8847245883021011\n",
      "XGBoost: 0.8841567291311755\n"
     ]
    }
   ],
   "source": [
    "loaded_rf = pickle.load(open('trained_mlmodels/rfHealthBot.pkl', 'rb'))\n",
    "loaded_xgb = pickle.load(open('trained_mlmodels/xgbHealthBot.pkl', 'rb'))\n",
    "result1 = loaded_rf.predict(X_test)\n",
    "result2 = loaded_xgb.predict(X_test)\n",
    "print(\"Saved Model Scores:\")\n",
    "print(f'RandomForest: {accuracy_score(y_test, result1)}')\n",
    "ytest_mod = [item-1 for item in y_test] # XGBoost likes 0-4 instead of 1-5\n",
    "print(f'XGBoost: {accuracy_score(ytest_mod, result2)}')"
   ]
  },
  {
   "cell_type": "code",
   "execution_count": 13,
   "id": "080baf69",
   "metadata": {},
   "outputs": [],
   "source": [
    "def rfTuner2(X_train, y_train, X_test, y_test, epochs=100):\n",
    "    print('Initializing Tuner...')\n",
    "    accout = [0 for k in range(epochs)]\n",
    "    estout = [0 for k in range(epochs)]\n",
    "    best_acc = 0 # tracking highest accuracy\n",
    "    start = time.time() # timing\n",
    "    for i in range(epochs): # user-defined loop length\n",
    "        if i < 100:\n",
    "            pass\n",
    "        else:\n",
    "            model = RandomForestClassifier(n_estimators=i+1) # changing estimators\n",
    "            model.fit(X_train, y_train)\n",
    "            preds = model.predict(X_test)\n",
    "            acc = accuracy_score(y_test, preds)\n",
    "            accout[i] = acc\n",
    "            estout[i] = i+1\n",
    "            print(f'model complete: {i}', end='\\r')\n",
    "            if acc > best_acc: # updating highest accuracy\n",
    "                print(f'New best Accuracy! Model {i}')\n",
    "                print(f'{round(acc*100,2)}%')\n",
    "                best_acc = acc\n",
    "    print(f'Total runtime: {(time.time() - start)/60} minutes')\n",
    "    return accout, estout\n"
   ]
  },
  {
   "cell_type": "code",
   "execution_count": 14,
   "id": "8ae76e40",
   "metadata": {},
   "outputs": [
    {
     "name": "stdout",
     "output_type": "stream",
     "text": [
      "Initializing Tuner...\n",
      "New best Accuracy! Model 100\n",
      "88.19%\n",
      "New best Accuracy! Model 103\n",
      "88.3%\n",
      "New best Accuracy! Model 106\n",
      "88.53%\n",
      "New best Accuracy! Model 114\n",
      "88.59%\n",
      "New best Accuracy! Model 117\n",
      "88.81%\n",
      "New best Accuracy! Model 118\n",
      "88.93%\n",
      "New best Accuracy! Model 164\n",
      "89.15%\n",
      "New best Accuracy! Model 280\n",
      "89.44%\n",
      "Total runtime: 17.525700418154397 minutes\n"
     ]
    }
   ],
   "source": [
    "accout, estout = rfTuner2(X_train, y_train, X_test, y_test, epochs=300)"
   ]
  },
  {
   "cell_type": "code",
   "execution_count": 18,
   "id": "355f2d49",
   "metadata": {},
   "outputs": [],
   "source": [
    "import matplotlib.pyplot as plt"
   ]
  },
  {
   "cell_type": "code",
   "execution_count": 41,
   "id": "0327bb6f",
   "metadata": {},
   "outputs": [
    {
     "data": {
      "image/png": "[encoded data removed]",
      "text/plain": [
       "<Figure size 640x480 with 1 Axes>"
      ]
     },
     "metadata": {},
     "output_type": "display_data"
    }
   ],
   "source": [
    "plt.plot(\n",
    "    accout\n",
    ")\n",
    "plt.axis([100,300,0.8,1])\n",
    "plt.xlabel('Number of Estimators')\n",
    "plt.ylabel('Accuracy (%)')\n",
    "plt.title('Random Forest Tuning')\n",
    "plt.axhline(max(accout)+0.001, c='r')\n",
    "plt.axhline(min(accout[100:])-0.001, c='g')\n",
    "plt.show()"
   ]
  }
 ],
 "metadata": {
  "kernelspec": {
   "display_name": "dev",
   "language": "python",
   "name": "python3"
  },
  "language_info": {
   "codemirror_mode": {
    "name": "ipython",
    "version": 3
   },
   "file_extension": ".py",
   "mimetype": "text/x-python",
   "name": "python",
   "nbconvert_exporter": "python",
   "pygments_lexer": "ipython3",
   "version": "3.10.16"
  }
 },
 "nbformat": 4,
 "nbformat_minor": 5
}
