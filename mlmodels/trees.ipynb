{
 "cells": [
  {
   "cell_type": "code",
   "execution_count": 1,
   "id": "6d639074",
   "metadata": {},
   "outputs": [
    {
     "name": "stdout",
     "output_type": "stream",
     "text": [
      "<Compressed Sparse Row sparse matrix of dtype 'float64'\n",
      "\twith 115782 stored elements and shape (5282, 8514)>\n",
      "  Coords\tValues\n",
      "  (0, 8232)\t0.25040301540124993\n",
      "  (0, 4942)\t0.3020279644797659\n",
      "  (0, 8490)\t0.35033272125468834\n",
      "  (0, 4441)\t0.3234652478407264\n",
      "  (0, 8488)\t0.36312218487299586\n",
      "  (0, 4105)\t0.38340866342101343\n",
      "  (0, 131)\t0.33611694335583137\n",
      "  (0, 2844)\t0.2517338974471896\n",
      "  (0, 1880)\t0.40436391696063495\n",
      "  (1, 7601)\t0.2784559751372677\n",
      "  (1, 7729)\t0.09738084451627431\n",
      "  (1, 5232)\t0.09808615400744047\n",
      "  (1, 4703)\t0.1430758576048859\n",
      "  (1, 749)\t0.12250483887130896\n",
      "  (1, 3058)\t0.23850803657884237\n",
      "  (1, 295)\t0.13710348759118834\n",
      "  (1, 3780)\t0.19010422491120965\n",
      "  (1, 5160)\t0.14617333031576848\n",
      "  (1, 4827)\t0.13934484340556888\n",
      "  (1, 8103)\t0.13230030210340882\n",
      "  (1, 6646)\t0.2278493798821864\n",
      "  (1, 4739)\t0.18793978521385618\n",
      "  (1, 4879)\t0.1632334529054089\n",
      "  (1, 4875)\t0.15457500539157024\n",
      "  (1, 1764)\t0.31126502871675993\n",
      "  :\t:\n",
      "  (5280, 3547)\t0.2253921362512485\n",
      "  (5280, 999)\t0.31897367003444643\n",
      "  (5280, 1302)\t0.25910481470602587\n",
      "  (5280, 7420)\t0.26904670390373236\n",
      "  (5280, 2844)\t0.18651621462537432\n",
      "  (5280, 4510)\t0.28114019340762597\n",
      "  (5280, 5587)\t0.33017602994921547\n",
      "  (5280, 1287)\t0.2825961961613213\n",
      "  (5280, 2836)\t0.37532937175723596\n",
      "  (5280, 6514)\t0.4319480447074167\n",
      "  (5281, 1733)\t0.24889290297204192\n",
      "  (5281, 3547)\t0.20115316841870362\n",
      "  (5281, 1302)\t0.23124034093434132\n",
      "  (5281, 8232)\t0.16557797438366037\n",
      "  (5281, 7420)\t0.24011306624520612\n",
      "  (5281, 4441)\t0.21389007810130706\n",
      "  (5281, 8488)\t0.24011306624520612\n",
      "  (5281, 2844)\t0.16645801471766816\n",
      "  (5281, 8329)\t0.28433694877057175\n",
      "  (5281, 4709)\t0.30356290939174574\n",
      "  (5281, 4510)\t0.25090600592538564\n",
      "  (5281, 7427)\t0.30486048582774194\n",
      "  (5281, 5587)\t0.2946684638818031\n",
      "  (5281, 1287)\t0.25220542822113823\n",
      "  (5281, 903)\t0.38549578184176525\n"
     ]
    }
   ],
   "source": [
    "import sys\n",
    "import os\n",
    "\n",
    "# Add the parent directory to the system path\n",
    "sys.path.append(os.path.abspath(\"../utils\"))\n",
    "\n",
    "from transformdata import X_train , X_test , y_train , y_test\n",
    "\n",
    "print(X_train)"
   ]
  },
  {
   "cell_type": "code",
   "execution_count": 3,
   "id": "9bbc4a95",
   "metadata": {},
   "outputs": [],
   "source": [
    "from sklearn.ensemble import RandomForestClassifier\n",
    "model = RandomForestClassifier()\n",
    "model.fit(X_train, y_train)\n",
    "preds = model.predict(X_test)"
   ]
  },
  {
   "cell_type": "code",
   "execution_count": 4,
   "id": "43755e90",
   "metadata": {},
   "outputs": [
    {
     "data": {
      "text/plain": [
       "0.8779102782509938"
      ]
     },
     "execution_count": 4,
     "metadata": {},
     "output_type": "execute_result"
    }
   ],
   "source": [
    "from sklearn.metrics import accuracy_score\n",
    "accuracy_score(y_test, preds)"
   ]
  },
  {
   "cell_type": "code",
   "execution_count": 25,
   "id": "b8905742",
   "metadata": {},
   "outputs": [],
   "source": [
    "import time"
   ]
  },
  {
   "cell_type": "code",
   "execution_count": 31,
   "id": "84673f0c",
   "metadata": {},
   "outputs": [],
   "source": [
    "def rfTuner(X_train, y_train, X_test, y_test, epochs=100):\n",
    "    print('Initializing Tuner...')\n",
    "    output = {}\n",
    "    best_acc = 0\n",
    "    start = time.time()\n",
    "    for i in range(epochs):\n",
    "        model = RandomForestClassifier(n_estimators=i+1)\n",
    "        model.fit(X_train, y_train)\n",
    "        preds = model.predict(X_test)\n",
    "        acc = accuracy_score(y_test, preds)\n",
    "        output[i] = {'estimators':epochs+i+20,\n",
    "                     'acc':acc}\n",
    "        print(f'model complete: {i}', end='\\r')\n",
    "        if acc > best_acc:\n",
    "            print(f'New best Accuracy! Model {i}')\n",
    "            print(f'{acc}%')\n",
    "            best_acc = acc\n",
    "    print(f'Total runtime: {(time.time() - start)/60} minutes')\n",
    "    return output\n"
   ]
  },
  {
   "cell_type": "code",
   "execution_count": 33,
   "id": "52506526",
   "metadata": {},
   "outputs": [
    {
     "name": "stdout",
     "output_type": "stream",
     "text": [
      "Initializing Tuner...\n",
      "New best Accuracy! Model 0\n",
      "0.8052243043725156%\n",
      "New best Accuracy! Model 1\n",
      "0.8131743327654741%\n",
      "New best Accuracy! Model 2\n",
      "0.8319136854060193%\n",
      "New best Accuracy! Model 3\n",
      "0.8398637137989778%\n",
      "New best Accuracy! Model 4\n",
      "0.848381601362862%\n",
      "New best Accuracy! Model 8\n",
      "0.8500851788756388%\n",
      "New best Accuracy! Model 9\n",
      "0.8534923339011925%\n",
      "New best Accuracy! Model 10\n",
      "0.8540601930721181%\n",
      "New best Accuracy! Model 11\n",
      "0.8654173764906303%\n",
      "New best Accuracy! Model 17\n",
      "0.8665530948324816%\n",
      "New best Accuracy! Model 25\n",
      "0.8671209540034072%\n",
      "New best Accuracy! Model 26\n",
      "0.871663827370812%\n",
      "New best Accuracy! Model 33\n",
      "0.8745031232254401%\n",
      "New best Accuracy! Model 34\n",
      "0.8762067007382169%\n",
      "New best Accuracy! Model 40\n",
      "0.8779102782509938%\n",
      "New best Accuracy! Model 58\n",
      "0.8807495741056218%\n",
      "New best Accuracy! Model 83\n",
      "0.8813174332765474%\n",
      "New best Accuracy! Model 126\n",
      "0.881885292447473%\n",
      "New best Accuracy! Model 131\n",
      "0.8824531516183987%\n",
      "New best Accuracy! Model 155\n",
      "0.8858603066439523%\n",
      "Total runtime: 8.956816152731578 minutes\n"
     ]
    }
   ],
   "source": [
    "saved = rfTuner(X_train, y_train, X_test, y_test, epochs=200)"
   ]
  },
  {
   "cell_type": "code",
   "execution_count": 48,
   "id": "ce4e06d6",
   "metadata": {},
   "outputs": [
    {
     "data": {
      "text/plain": [
       "0.8637137989778535"
      ]
     },
     "execution_count": 48,
     "metadata": {},
     "output_type": "execute_result"
    }
   ],
   "source": [
    "from xgboost import XGBClassifier\n",
    "model = XGBClassifier(objective='multi:softmax', num_class=5, n_estimators=100, learning_rate=0.1)\n",
    "ytrain_mod = [item-1 for item in y_train]\n",
    "ytest_mod = [item-1 for item in y_test]\n",
    "model.fit(X_train, ytrain_mod)\n",
    "preds = model.predict(X_test)\n",
    "accuracy_score(ytest_mod, preds)"
   ]
  },
  {
   "cell_type": "code",
   "execution_count": null,
   "id": "e27a7919",
   "metadata": {},
   "outputs": [],
   "source": []
  }
 ],
 "metadata": {
  "kernelspec": {
   "display_name": "dev",
   "language": "python",
   "name": "python3"
  },
  "language_info": {
   "codemirror_mode": {
    "name": "ipython",
    "version": 3
   },
   "file_extension": ".py",
   "mimetype": "text/x-python",
   "name": "python",
   "nbconvert_exporter": "python",
   "pygments_lexer": "ipython3",
   "version": "3.10.16"
  }
 },
 "nbformat": 4,
 "nbformat_minor": 5
}
